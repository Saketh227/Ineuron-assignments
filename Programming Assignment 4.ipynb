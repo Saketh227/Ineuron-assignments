{
 "cells": [
  {
   "cell_type": "markdown",
   "id": "f75199aa",
   "metadata": {},
   "source": [
    "1.\tWrite a Python Program to Find the Factorial of a Number?\n",
    "2.\tWrite a Python Program to Display the multiplication Table?\n",
    "3.\tWrite a Python Program to Print the Fibonacci sequence?\n",
    "4.\tWrite a Python Program to Check Armstrong Number?\n",
    "5.\tWrite a Python Program to Find Armstrong Number in an Interval?\n",
    "6.\tWrite a Python Program to Find the Sum of Natural Numbers?\n"
   ]
  },
  {
   "cell_type": "code",
   "execution_count": 1,
   "id": "32508e5f",
   "metadata": {},
   "outputs": [
    {
     "name": "stdout",
     "output_type": "stream",
     "text": [
      "120\n",
      "1\n",
      "1\n"
     ]
    }
   ],
   "source": [
    "def factorial(num):\n",
    "    res=1\n",
    "    for i in range(2,num+1):\n",
    "        res=res * i\n",
    "    return res\n",
    "\n",
    "print(factorial(5))\n",
    "print(factorial(0))\n",
    "print(factorial(1))"
   ]
  },
  {
   "cell_type": "code",
   "execution_count": 2,
   "id": "8cd4ed00",
   "metadata": {},
   "outputs": [
    {
     "name": "stdout",
     "output_type": "stream",
     "text": [
      "5 * 1 = 5\n",
      "5 * 2 = 10\n",
      "5 * 3 = 15\n",
      "5 * 4 = 20\n",
      "5 * 5 = 25\n",
      "5 * 6 = 30\n",
      "5 * 7 = 35\n",
      "5 * 8 = 40\n",
      "5 * 9 = 45\n",
      "5 * 10 = 50\n",
      "The above is the multiplication table for 5\n",
      "\n",
      "12 * 1 = 12\n",
      "12 * 2 = 24\n",
      "12 * 3 = 36\n",
      "12 * 4 = 48\n",
      "12 * 5 = 60\n",
      "12 * 6 = 72\n",
      "12 * 7 = 84\n",
      "12 * 8 = 96\n",
      "12 * 9 = 108\n",
      "12 * 10 = 120\n",
      "The above is the multiplication table for 12\n"
     ]
    }
   ],
   "source": [
    "def mul_table(num):\n",
    "    for i in range(1,10+1):\n",
    "        print(f\"{num} * {i} = {num*i}\")\n",
    "    return f\"The above is the multiplication table for {num}\"\n",
    "print(mul_table(5),end=\"\\n\\n\")\n",
    "print(mul_table(12))"
   ]
  },
  {
   "cell_type": "code",
   "execution_count": 3,
   "id": "333f12ee",
   "metadata": {},
   "outputs": [
    {
     "name": "stdout",
     "output_type": "stream",
     "text": [
      "[0, 1, 1, 2, 3, 5, 8, 13, 21, 34]\n",
      "[0, 1]\n",
      "[0]\n"
     ]
    }
   ],
   "source": [
    "def fibbanoci_series(num):\n",
    "    l=[0,1]\n",
    "    if num < 0 :\n",
    "        print(\"incorrect input\")\n",
    "    elif num == 0 or num==1:\n",
    "        return l[:num+1]\n",
    "    else:\n",
    "        a=0\n",
    "        b=1\n",
    "        for i in range(1,num):\n",
    "            a,b=b,a+b\n",
    "            l.append(b)\n",
    "    return l\n",
    "\n",
    "print(fibbanoci_series(9))\n",
    "print(fibbanoci_series(1))\n",
    "print(fibbanoci_series(0))"
   ]
  },
  {
   "cell_type": "code",
   "execution_count": 4,
   "id": "1a7dabdc",
   "metadata": {},
   "outputs": [
    {
     "name": "stdout",
     "output_type": "stream",
     "text": [
      "153 is an armstrong number\n",
      "407 is an armstrong number\n",
      "663 is not an armstrong number\n"
     ]
    }
   ],
   "source": [
    "def armstrong_number_check(num):    \n",
    "    s=str(num)\n",
    "    n=len(s)\n",
    "    l=[]\n",
    "    l.extend(s)\n",
    "    sum=0   \n",
    "    for j in l:\n",
    "        sum= sum + int(j)**n \n",
    "\n",
    "    if sum == num:\n",
    "        return f\"{num} is an armstrong number\"\n",
    "    else :\n",
    "        return f\"{num} is not an armstrong number\"\n",
    "    \n",
    "print(armstrong_number_check(153))\n",
    "print(armstrong_number_check(407))\n",
    "print(armstrong_number_check(663))"
   ]
  },
  {
   "cell_type": "code",
   "execution_count": 5,
   "id": "3c0d2847",
   "metadata": {},
   "outputs": [
    {
     "name": "stdout",
     "output_type": "stream",
     "text": [
      "the sum of first 2 natural numbers is: 3\n",
      "the sum of first 5 natural numbers is: 15\n",
      "natural numbers does not contain negative number\n"
     ]
    }
   ],
   "source": [
    "def sum_natural(n):\n",
    "    if n >= 0:\n",
    "        sum =(n*(n+1))/2\n",
    "        print(f\"the sum of first {n} natural numbers is:\", end=\" \")\n",
    "        return int(sum)\n",
    "    else:\n",
    "        return \"natural numbers does not contain negative number\"\n",
    "\n",
    "print(sum_natural(2))\n",
    "print(sum_natural(5))\n",
    "print(sum_natural(-3))"
   ]
  },
  {
   "cell_type": "code",
   "execution_count": null,
   "id": "a6c4a293",
   "metadata": {},
   "outputs": [],
   "source": []
  }
 ],
 "metadata": {
  "kernelspec": {
   "display_name": "Python 3 (ipykernel)",
   "language": "python",
   "name": "python3"
  },
  "language_info": {
   "codemirror_mode": {
    "name": "ipython",
    "version": 3
   },
   "file_extension": ".py",
   "mimetype": "text/x-python",
   "name": "python",
   "nbconvert_exporter": "python",
   "pygments_lexer": "ipython3",
   "version": "3.9.12"
  }
 },
 "nbformat": 4,
 "nbformat_minor": 5
}

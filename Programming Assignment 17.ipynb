{
 "cells": [
  {
   "cell_type": "markdown",
   "id": "3258aff2",
   "metadata": {},
   "source": [
    "### Question1. Create a function that takes three arguments a, b, c and returns the sum of the numbers that are evenly divided by c from the range a, b inclusive.\n",
    "Examples\n",
    "\n",
    "    evenly_divisible(1, 10, 20) ➞ 0\n",
    "    No number between 1 and 10 can be evenly divided by 20.\n",
    "\n",
    "    evenly_divisible(1, 10, 2) ➞ 30\n",
    "    2 + 4 + 6 + 8 + 10 = 30\n",
    "\n",
    "    evenly_divisible(1, 10, 3) ➞ 18\n",
    "    3 + 6 + 9 = 18"
   ]
  },
  {
   "cell_type": "code",
   "execution_count": 1,
   "id": "5595fd87",
   "metadata": {},
   "outputs": [
    {
     "name": "stdout",
     "output_type": "stream",
     "text": [
      "0\n",
      "30\n",
      "18\n"
     ]
    }
   ],
   "source": [
    "def evenly_divisible(a,b,c):\n",
    "    l=0\n",
    "    for i in range(a,b+1):\n",
    "        if i%c == 0:\n",
    "            l=l+i        \n",
    "    return l\n",
    "print(evenly_divisible(1,10,20))\n",
    "print(evenly_divisible(1,10,2))\n",
    "print(evenly_divisible(1,10,3))"
   ]
  },
  {
   "cell_type": "markdown",
   "id": "e68dc86d",
   "metadata": {},
   "source": [
    "### Question2. Create a function that returns True if a given inequality expression is correct and False otherwise.\n",
    "Examples\n",
    "\n",
    "    correct_signs(\"3 < 7 < 11\") ➞ True\n",
    "\n",
    "    correct_signs(\"13 > 44 > 33 > 1\") ➞ False\n",
    "\n",
    "    correct_signs(\"1 < 2 < 6 < 9 > 3\") ➞ True"
   ]
  },
  {
   "cell_type": "code",
   "execution_count": 2,
   "id": "ed3d1d09",
   "metadata": {},
   "outputs": [
    {
     "name": "stdout",
     "output_type": "stream",
     "text": [
      "True\n",
      "False\n",
      "True\n"
     ]
    }
   ],
   "source": [
    "def correct_signs(exp):\n",
    "    if eval(exp):\n",
    "        return True\n",
    "    else: return False\n",
    "    \n",
    "print(correct_signs(\"3 < 7 < 11\"))\n",
    "print(correct_signs(\"13 > 44 > 33 > 1\"))\n",
    "print(correct_signs(\"1 < 2 < 6 < 9 > 3\"))"
   ]
  },
  {
   "cell_type": "markdown",
   "id": "6e27c9db",
   "metadata": {},
   "source": [
    "### Question3. Create a function that replaces all the vowels in a string with a specified character.\n",
    "Examples\n",
    "\n",
    "    replace_vowels(\"the aardvark\", \"#\") ➞ \"th# ##rdv#rk\"\n",
    "\n",
    "    replace_vowels(\"minnie mouse\", \"?\") ➞ \"m?nn?? m??s?\"\n",
    "\n",
    "    replace_vowels(\"shakespeare\", \"*\") ➞ \"sh*k*sp**r*\""
   ]
  },
  {
   "cell_type": "code",
   "execution_count": 1,
   "id": "4b5d79d1",
   "metadata": {},
   "outputs": [
    {
     "name": "stdout",
     "output_type": "stream",
     "text": [
      "my n?m? ?s s?k?th\n",
      "sh*k*sp**r*\n",
      "m?nn?? m??s?\n"
     ]
    }
   ],
   "source": [
    "def replace_vowels(sentence,char):\n",
    "    vowels=\"aeiou\"\n",
    "    sentence=sentence.lower()\n",
    "    for i in vowels:\n",
    "        if i in sentence:\n",
    "            sentence = sentence.replace(i,char)\n",
    "    return sentence\n",
    "print(replace_vowels(\"my name is saketh\",\"?\"))\n",
    "print(replace_vowels(\"shakespeare\", \"*\"))\n",
    "print(replace_vowels(\"minnie mouse\", \"?\"))"
   ]
  },
  {
   "cell_type": "markdown",
   "id": "c4d1737a",
   "metadata": {},
   "source": [
    "### Question4. Write a function that calculates the factorial of a number recursively.\n",
    "Examples\n",
    "\n",
    "    factorial(5) ➞ 120\n",
    "\n",
    "    factorial(3) ➞ 6\n",
    "\n",
    "    factorial(1) ➞ 1\n",
    "\n",
    "    factorial(0) ➞ 1\n"
   ]
  },
  {
   "cell_type": "code",
   "execution_count": 3,
   "id": "8e87b29a",
   "metadata": {},
   "outputs": [
    {
     "name": "stdout",
     "output_type": "stream",
     "text": [
      "120\n",
      "6\n",
      "1\n",
      "1\n",
      "the incorrect input is given\n"
     ]
    }
   ],
   "source": [
    "def factorial(num):\n",
    "    if num<0:\n",
    "        return \"the incorrect input is given\"\n",
    "    if num==1 or num==0:\n",
    "        return 1\n",
    "    else:\n",
    "        return num*factorial(num-1)\n",
    "\n",
    "print(factorial(5))\n",
    "print(factorial(3))\n",
    "print(factorial(1))\n",
    "print(factorial(0))\n",
    "print(factorial(-5))"
   ]
  },
  {
   "cell_type": "markdown",
   "id": "190d8524",
   "metadata": {},
   "source": [
    "### Hamming distance is the number of characters that differ between two strings.\n",
    "\n",
    "To illustrate:\n",
    "\n",
    "    String1: \"abcbba\"\n",
    "    String2: \"abcbda\"\n",
    "\n",
    "Hamming Distance: 1 - \"b\" vs. \"d\" is the only difference.\n",
    "\n",
    "Create a function that computes the hamming distance between two strings.\n",
    "Examples\n",
    "\n",
    "    hamming_distance(\"abcde\", \"bcdef\") ➞ 5\n",
    "\n",
    "    hamming_distance(\"abcde\", \"abcde\") ➞ 0\n",
    "\n",
    "    hamming_distance(\"strong\", \"strung\") ➞ 1\n"
   ]
  },
  {
   "cell_type": "code",
   "execution_count": 5,
   "id": "f27402c8",
   "metadata": {},
   "outputs": [
    {
     "name": "stdout",
     "output_type": "stream",
     "text": [
      "5\n",
      "0\n",
      "1\n"
     ]
    }
   ],
   "source": [
    "def hamming_distance(a,b):\n",
    "    if len(a) == len(b):\n",
    "        if a==b:\n",
    "            return 0\n",
    "        else :\n",
    "            count = 0\n",
    "            for i in range(len(a)):\n",
    "                if a[i] != b[i]:\n",
    "                    count +=1\n",
    "            return count\n",
    "    else:\n",
    "        return \"The strings are not of same length\"\n",
    "    \n",
    "print(hamming_distance(\"abcde\",\"bcdef\"))\n",
    "print(hamming_distance(\"saketh\",\"saketh\"))\n",
    "print(hamming_distance(\"strong\",\"strung\"))"
   ]
  },
  {
   "cell_type": "code",
   "execution_count": null,
   "id": "5ee97b8a",
   "metadata": {},
   "outputs": [],
   "source": []
  }
 ],
 "metadata": {
  "kernelspec": {
   "display_name": "Python 3 (ipykernel)",
   "language": "python",
   "name": "python3"
  },
  "language_info": {
   "codemirror_mode": {
    "name": "ipython",
    "version": 3
   },
   "file_extension": ".py",
   "mimetype": "text/x-python",
   "name": "python",
   "nbconvert_exporter": "python",
   "pygments_lexer": "ipython3",
   "version": "3.9.12"
  }
 },
 "nbformat": 4,
 "nbformat_minor": 5
}

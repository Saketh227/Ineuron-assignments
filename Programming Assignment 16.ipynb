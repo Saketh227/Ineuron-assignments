{
 "cells": [
  {
   "cell_type": "markdown",
   "id": "13b828cd",
   "metadata": {},
   "source": [
    "Question1. Write a function that stutters a word as if someone is struggling to read it. The first two letters are repeated twice with an ellipsis ... and space after each, and then the word is pronounced with a question mark ?.\n",
    "Examples\n",
    "stutter(\"incredible\") ➞ \"in... in... incredible?\"\n",
    "\n",
    "stutter(\"enthusiastic\") ➞ \"en... en... enthusiastic?\"\n",
    "\n",
    "stutter(\"outstanding\") ➞ \"ou... ou... outstanding?\"\n",
    "\n",
    "Hint :- Assume all input is in lower case and at least two characters long."
   ]
  },
  {
   "cell_type": "code",
   "execution_count": 1,
   "id": "37cb8fb8",
   "metadata": {},
   "outputs": [
    {
     "name": "stdout",
     "output_type": "stream",
     "text": [
      "in... in... incredible?\n",
      "en... en... enthusiastic?\n",
      "ou... ou... outstanding?\n"
     ]
    }
   ],
   "source": [
    "def get_stutter(word):\n",
    "    if len(word)>= 2:\n",
    "        return (word[:2] + \"... \")*2+word+'?'\n",
    "    \n",
    "print(get_stutter(\"incredible\"))\n",
    "print(get_stutter(\"enthusiastic\"))\n",
    "print(get_stutter(\"outstanding\"))"
   ]
  },
  {
   "cell_type": "markdown",
   "id": "8af14b51",
   "metadata": {},
   "source": [
    "Question 2.Create a function that takes an angle in radians and returns the corresponding angle in degrees rounded to one decimal place.\n",
    "Examples\n",
    "radians_to_degrees(1) ➞ 57.3\n",
    "\n",
    "radians_to_degrees(20) ➞ 1145.9\n",
    "\n",
    "radians_to_degrees(50) ➞ 2864.8"
   ]
  },
  {
   "cell_type": "code",
   "execution_count": 2,
   "id": "6ccda911",
   "metadata": {},
   "outputs": [
    {
     "name": "stdout",
     "output_type": "stream",
     "text": [
      "57.3\n",
      "1145.9\n",
      "2864.8\n"
     ]
    }
   ],
   "source": [
    "def rad_to_deg(radians):\n",
    "    return round(57.2958*radians,1)\n",
    "\n",
    "print(rad_to_deg(1))\n",
    "print(rad_to_deg(20))\n",
    "print(rad_to_deg(50))"
   ]
  },
  {
   "cell_type": "markdown",
   "id": "aa6323cc",
   "metadata": {},
   "source": [
    "Question 3. In this challenge, establish if a given integer num is a Curzon number. If 1 plus 2 elevated to num is exactly divisible by 1 plus 2 multiplied by num, then num is a Curzon number.\n",
    "Given a non-negative integer num, implement a function that returns True if num is a Curzon number, or False otherwise.\n",
    "Examples\n",
    "\n",
    "    is_curzon(5) ➞ True\n",
    "    # 2 ** 5 + 1 = 33\n",
    "    # 2 * 5 + 1 = 11\n",
    "    # 33 is a multiple of 11\n",
    "\n",
    "    is_curzon(10) ➞ False\n",
    "    # 2 ** 10 + 1 = 1025\n",
    "    # 2 * 10 + 1 = 21\n",
    "    # 1025 is not a multiple of 21\n",
    "\n",
    "    is_curzon(14) ➞ True\n",
    "    # 2 ** 14 + 1 = 16385\n",
    "    # 2 * 14 + 1 = 29\n",
    "    # 16385 is a multiple of 29 -->\n"
   ]
  },
  {
   "cell_type": "code",
   "execution_count": 3,
   "id": "ebcbc560",
   "metadata": {},
   "outputs": [
    {
     "name": "stdout",
     "output_type": "stream",
     "text": [
      "True\n",
      "False\n",
      "True\n"
     ]
    }
   ],
   "source": [
    "def curzon_check(num):\n",
    "    if num > 0 and type(num)==int:\n",
    "        a=2**num+1\n",
    "        b=2*num+1\n",
    "        if a%b == 0:\n",
    "            return True\n",
    "        else: \n",
    "            return False\n",
    "\n",
    "print(curzon_check(5))\n",
    "print(curzon_check(10))\n",
    "print(curzon_check(14))"
   ]
  },
  {
   "cell_type": "code",
   "execution_count": 4,
   "id": "61182ff7",
   "metadata": {},
   "outputs": [
    {
     "name": "stdout",
     "output_type": "stream",
     "text": [
      "2.6\n",
      "10.4\n",
      "23.4\n"
     ]
    }
   ],
   "source": [
    "# Question 4.Given the side length x find the area of a hexagon.\n",
    "import math\n",
    "def area_hex(side):\n",
    "    area=(3*side**2*math.sqrt(3))/2\n",
    "    return round(area,1)\n",
    "\n",
    "print(area_hex(1))\n",
    "print(area_hex(2))\n",
    "print(area_hex(3))"
   ]
  },
  {
   "cell_type": "markdown",
   "id": "9085bd93",
   "metadata": {},
   "source": [
    "Question 5. Create a function that returns a base-2 (binary) representation of a base-10 (decimal) string number. To convert is simple: ((2) means base-2 and (10) means base-10) 010101001(2) = 1 + 8 + 32 + 128.\n",
    "\n",
    "Going from right to left, the value of the most right bit is 1, now from that every bit to the left will be x2 the value, value of an 8 bit binary numbers are (256, 128, 64, 32, 16, 8, 4, 2, 1).\n",
    "\n",
    "Examples\n",
    "    binary(1) ➞ \"1\"\n",
    "     1*1 = 1\n",
    "\n",
    "    binary(5) ➞ \"101\"\n",
    "     1*1 + 1*4 = 5\n",
    "\n",
    "    binary(10) ➞ \"1010\"\n",
    "     1*2 + 1*8 = 10\n"
   ]
  },
  {
   "cell_type": "code",
   "execution_count": 5,
   "id": "bacf079a",
   "metadata": {},
   "outputs": [
    {
     "name": "stdout",
     "output_type": "stream",
     "text": [
      "101\n",
      "1010\n",
      "1\n"
     ]
    }
   ],
   "source": [
    "def base10_to_base2(num):\n",
    "    l=[]\n",
    "    while num>0:\n",
    "        l.append(str(num%2))\n",
    "        num=num//2\n",
    "    return \"\".join(l[::-1])\n",
    "\n",
    "print(base10_to_base2(5))\n",
    "print(base10_to_base2(10))\n",
    "print(base10_to_base2(1))"
   ]
  },
  {
   "cell_type": "code",
   "execution_count": 6,
   "id": "5566cf1a",
   "metadata": {},
   "outputs": [
    {
     "name": "stdout",
     "output_type": "stream",
     "text": [
      "101\n",
      "1010\n",
      "1\n"
     ]
    }
   ],
   "source": [
    "def binary(num):\n",
    "    s=''\n",
    "    while num>0:\n",
    "        s=s + str(num%2)\n",
    "        num=num//2\n",
    "    return s[::-1]\n",
    "print(binary(5))\n",
    "print(binary(10))\n",
    "print(binary(1))"
   ]
  },
  {
   "cell_type": "code",
   "execution_count": null,
   "id": "29b4bec7",
   "metadata": {},
   "outputs": [],
   "source": []
  }
 ],
 "metadata": {
  "kernelspec": {
   "display_name": "Python 3 (ipykernel)",
   "language": "python",
   "name": "python3"
  },
  "language_info": {
   "codemirror_mode": {
    "name": "ipython",
    "version": 3
   },
   "file_extension": ".py",
   "mimetype": "text/x-python",
   "name": "python",
   "nbconvert_exporter": "python",
   "pygments_lexer": "ipython3",
   "version": "3.9.12"
  }
 },
 "nbformat": 4,
 "nbformat_minor": 5
}

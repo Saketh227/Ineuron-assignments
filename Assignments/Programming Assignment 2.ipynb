{
 "cells": [
  {
   "cell_type": "raw",
   "id": "d261d6dc",
   "metadata": {},
   "source": [
    "1.\tWrite a Python program to convert kilometers to miles?\n",
    "2.\tWrite a Python program to convert Celsius to Fahrenheit?\n",
    "3.\tWrite a Python program to display calendar?\n",
    "4.\tWrite a Python program to solve quadratic equation?\n",
    "5.\tWrite a Python program to swap two variables without temp variable?"
   ]
  },
  {
   "cell_type": "code",
   "execution_count": 1,
   "id": "dba3faf4",
   "metadata": {},
   "outputs": [
    {
     "data": {
      "text/plain": [
       "'8 Km is equivalent to 4.97096 miles'"
      ]
     },
     "execution_count": 1,
     "metadata": {},
     "output_type": "execute_result"
    }
   ],
   "source": [
    "def km_to_miles(a):\n",
    "    return \"{} Km is equivalent to {} miles\".format(a,round(0.62137*a,5))\n",
    "\n",
    "km_to_miles(8)"
   ]
  },
  {
   "cell_type": "code",
   "execution_count": 2,
   "id": "a2f7c2b3",
   "metadata": {},
   "outputs": [
    {
     "data": {
      "text/plain": [
       "'21 degree celsius is equivalent to 69.8 fahrenheit'"
      ]
     },
     "execution_count": 2,
     "metadata": {},
     "output_type": "execute_result"
    }
   ],
   "source": [
    "def celsius_to_Fahrenheit(a):\n",
    "    return \"{} degree celsius is equivalent to {} fahrenheit\".format(a, round( (1.8*a)+32 ,1 ) )\n",
    "\n",
    "celsius_to_Fahrenheit(21)"
   ]
  },
  {
   "cell_type": "code",
   "execution_count": 3,
   "id": "d31ce107",
   "metadata": {},
   "outputs": [
    {
     "name": "stdout",
     "output_type": "stream",
     "text": [
      "   September 2022\n",
      "Mo Tu We Th Fr Sa Su\n",
      "          1  2  3  4\n",
      " 5  6  7  8  9 10 11\n",
      "12 13 14 15 16 17 18\n",
      "19 20 21 22 23 24 25\n",
      "26 27 28 29 30\n",
      "\n"
     ]
    }
   ],
   "source": [
    "import calendar\n",
    "year = 2022\n",
    "month = 9\n",
    "print(calendar.month(year, month))"
   ]
  },
  {
   "cell_type": "code",
   "execution_count": 6,
   "id": "d0bd8d33",
   "metadata": {},
   "outputs": [
    {
     "name": "stdout",
     "output_type": "stream",
     "text": [
      "the roots are complex, they are -1.0 + i 2.828, -1.0 - i 2.828\n",
      "the roots are real and distinct, they are -0.5,-2.0\n",
      "the roots real and equal, it is -1.0\n"
     ]
    }
   ],
   "source": [
    "# Python program to find roots of quadratic equation\n",
    "import math\n",
    "\n",
    "\n",
    "# function for finding roots\n",
    "def Quadratic_eq_roots( a, b, c):\n",
    "    if a==0:\n",
    "        return \"the equation is not quadratic\"\n",
    "    else:\n",
    "        discriminant = (b**2) - (4 * a * c)\n",
    "        sqrt_val = round(math.sqrt(abs(discriminant)),3)\n",
    "\n",
    "        if discriminant > 0:\n",
    "            root_1= (-b+sqrt_val)/(2*a)\n",
    "            root_2= (-b-sqrt_val)/(2*a)\n",
    "            return \"the roots are real and distinct, they are {},{}\".format(root_1,root_2)\n",
    "\n",
    "        elif discriminant==0:\n",
    "            return \"the roots real and equal, it is {}\".format(-b/(2*a))\n",
    "\n",
    "        else:\n",
    "            return \"the roots are complex, they are {0} + i {1}, {0} - i {1}\".format(-b/(2*a), sqrt_val)\n",
    "\n",
    "\n",
    "print(Quadratic_eq_roots(1,2,3))\n",
    "print(Quadratic_eq_roots(2,5,2))\n",
    "print(Quadratic_eq_roots(1,2,1))"
   ]
  },
  {
   "cell_type": "code",
   "execution_count": 5,
   "id": "de133d6a",
   "metadata": {},
   "outputs": [
    {
     "name": "stdout",
     "output_type": "stream",
     "text": [
      "20 10\n"
     ]
    }
   ],
   "source": [
    "def swap(a,b):\n",
    "    # print(\"the values of a , b before swapping are {},{} respectively\".format(a,b))\n",
    "    a,b=b,a\n",
    "    # print(\"the values of a , b after swapping are {},{} respectively\".format(a,b))\n",
    "    return a,b\n",
    "\n",
    "a,b=10,20\n",
    "a,b=swap(a,b)\n",
    "print(a,b)"
   ]
  },
  {
   "cell_type": "code",
   "execution_count": null,
   "id": "1907ec22",
   "metadata": {},
   "outputs": [],
   "source": []
  }
 ],
 "metadata": {
  "kernelspec": {
   "display_name": "Python 3 (ipykernel)",
   "language": "python",
   "name": "python3"
  },
  "language_info": {
   "codemirror_mode": {
    "name": "ipython",
    "version": 3
   },
   "file_extension": ".py",
   "mimetype": "text/x-python",
   "name": "python",
   "nbconvert_exporter": "python",
   "pygments_lexer": "ipython3",
   "version": "3.9.12"
  }
 },
 "nbformat": 4,
 "nbformat_minor": 5
}

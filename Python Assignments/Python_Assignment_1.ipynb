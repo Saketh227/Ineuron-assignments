{
  "nbformat": 4,
  "nbformat_minor": 0,
  "metadata": {
    "colab": {
      "provenance": []
    },
    "kernelspec": {
      "name": "python3",
      "display_name": "Python 3"
    },
    "language_info": {
      "name": "python"
    }
  },
  "cells": [
    {
      "cell_type": "code",
      "execution_count": null,
      "metadata": {
        "colab": {
          "base_uri": "https://localhost:8080/"
        },
        "id": "_pp9adHfYjFr",
        "outputId": "f1e99266-e470-472b-9ebc-af8647625da9"
      },
      "outputs": [
        {
          "output_type": "stream",
          "name": "stdout",
          "text": [
            "gnirtsym"
          ]
        }
      ],
      "source": [
        "# 1. Write a Python program to reverse a string without using any built-in string reversal functions.\n",
        "s = \"mystring\"\n",
        "for i in range(len(s)-1,-1,-1):\n",
        "  print(s[i],end=\"\")"
      ]
    },
    {
      "cell_type": "code",
      "source": [
        "# 2. Implement a function to check if a given string is a palindrome.\n",
        "def isPalindrome(s):\n",
        "  if s == s[::-1]:\n",
        "    return True\n",
        "  return False\n",
        "\n",
        "isPalindrome(\"rar\")"
      ],
      "metadata": {
        "colab": {
          "base_uri": "https://localhost:8080/"
        },
        "id": "68VgOBAhZFKe",
        "outputId": "b2d4fc2e-3edd-4207-9005-6dea336ba741"
      },
      "execution_count": null,
      "outputs": [
        {
          "output_type": "execute_result",
          "data": {
            "text/plain": [
              "True"
            ]
          },
          "metadata": {},
          "execution_count": 3
        }
      ]
    },
    {
      "cell_type": "code",
      "source": [
        "# 3. Write a program to find the largest element in a given list.\n",
        "def getMax(l:list):\n",
        "  max = 0\n",
        "  for i in l:\n",
        "    if i > max :\n",
        "      max = i\n",
        "  return max\n",
        "\n",
        "getMax([0,1,2,3,4])"
      ],
      "metadata": {
        "colab": {
          "base_uri": "https://localhost:8080/"
        },
        "id": "kt6NpVbWZnnE",
        "outputId": "92ca297c-cbbd-42ad-d0bd-c4048c5cba54"
      },
      "execution_count": null,
      "outputs": [
        {
          "output_type": "execute_result",
          "data": {
            "text/plain": [
              "4"
            ]
          },
          "metadata": {},
          "execution_count": 4
        }
      ]
    },
    {
      "cell_type": "code",
      "source": [
        "# 4. Implement a function to count the occurrence of each element in a list.\n",
        "def getCount(n,l):\n",
        "  count = 0\n",
        "  for i in l:\n",
        "    if i ==n:\n",
        "      count += 1\n",
        "  return count\n",
        "getCount(1,[1,1,1,2])"
      ],
      "metadata": {
        "colab": {
          "base_uri": "https://localhost:8080/"
        },
        "id": "HXsXfxnuadXf",
        "outputId": "9e4d7e40-32e5-4ae9-b84e-42c8e27e9741"
      },
      "execution_count": null,
      "outputs": [
        {
          "output_type": "execute_result",
          "data": {
            "text/plain": [
              "3"
            ]
          },
          "metadata": {},
          "execution_count": 6
        }
      ]
    },
    {
      "cell_type": "code",
      "source": [
        "# 5. Write a Python program to find the second largest number in a list.\n",
        "def secondLargest(l):\n",
        "  l.sort()\n",
        "  return l[-2]\n",
        "\n",
        "secondLargest([1,2,4,9,5])"
      ],
      "metadata": {
        "colab": {
          "base_uri": "https://localhost:8080/"
        },
        "id": "tPPe4m7ocYZe",
        "outputId": "c54c2a45-6e54-4785-addf-c49b0aa16067"
      },
      "execution_count": null,
      "outputs": [
        {
          "output_type": "execute_result",
          "data": {
            "text/plain": [
              "5"
            ]
          },
          "metadata": {},
          "execution_count": 9
        }
      ]
    },
    {
      "cell_type": "code",
      "source": [
        "# 6. Implement a function to remove duplicate elements from a list.\n",
        "def remDup(l):\n",
        "  return [i for i in set(l)]\n",
        "remDup([1,2,2,3,3,4])"
      ],
      "metadata": {
        "colab": {
          "base_uri": "https://localhost:8080/"
        },
        "id": "R8rhORoogMg3",
        "outputId": "6f0b40b4-3b21-457c-f28d-fd2b83b8dcc7"
      },
      "execution_count": null,
      "outputs": [
        {
          "output_type": "execute_result",
          "data": {
            "text/plain": [
              "[1, 2, 3, 4]"
            ]
          },
          "metadata": {},
          "execution_count": 10
        }
      ]
    },
    {
      "cell_type": "code",
      "source": [
        "# 7. Write a program to calculate the factorial of a given number.\n",
        "def fact(n):\n",
        "  if n==1 or n==0:\n",
        "    return 1\n",
        "  return n*fact(n-1)\n",
        "\n",
        "fact(5)"
      ],
      "metadata": {
        "colab": {
          "base_uri": "https://localhost:8080/"
        },
        "id": "Kk67ClGbidfG",
        "outputId": "80ab6048-c7cb-4130-a1e1-600629e4656e"
      },
      "execution_count": null,
      "outputs": [
        {
          "output_type": "execute_result",
          "data": {
            "text/plain": [
              "120"
            ]
          },
          "metadata": {},
          "execution_count": 11
        }
      ]
    },
    {
      "cell_type": "code",
      "source": [
        "# 8. Implement a function to check if a given number is prime.\n",
        "def isPrime(n):\n",
        "  if n ==1:\n",
        "    print(n,\"is not aprime number\")\n",
        "    return\n",
        "\n",
        "  else :\n",
        "    for i in range(2,n):\n",
        "      if n%i == 0 :\n",
        "        return False\n",
        "  return True\n",
        "\n",
        "isPrime(9)"
      ],
      "metadata": {
        "colab": {
          "base_uri": "https://localhost:8080/"
        },
        "id": "BSQC2sH8ijpG",
        "outputId": "6705b8ff-e716-4718-fa80-97713c56cb11"
      },
      "execution_count": null,
      "outputs": [
        {
          "output_type": "execute_result",
          "data": {
            "text/plain": [
              "False"
            ]
          },
          "metadata": {},
          "execution_count": 15
        }
      ]
    },
    {
      "cell_type": "code",
      "source": [
        "# 9. Write a Python program to sort a list of integers in ascending order.\n",
        "def sortList(l):\n",
        "  l.sort()\n",
        "  return l\n",
        "\n",
        "sortList([2,3,1,5,4,7,9])"
      ],
      "metadata": {
        "colab": {
          "base_uri": "https://localhost:8080/"
        },
        "id": "bRLBZZqli4sd",
        "outputId": "b1551b1b-05f5-46ee-87d9-33adeee372eb"
      },
      "execution_count": null,
      "outputs": [
        {
          "output_type": "execute_result",
          "data": {
            "text/plain": [
              "[1, 2, 3, 4, 5, 7, 9]"
            ]
          },
          "metadata": {},
          "execution_count": 17
        }
      ]
    },
    {
      "cell_type": "code",
      "source": [
        "# 10. Implement a function to find the sum of all numbers in a list.\n",
        "def getSum(l):\n",
        "  sum = 0\n",
        "  for i in l:\n",
        "    sum += i\n",
        "  return sum\n",
        "\n",
        "getSum([1,2,3])"
      ],
      "metadata": {
        "colab": {
          "base_uri": "https://localhost:8080/"
        },
        "id": "x-cCiTYRjNbm",
        "outputId": "a8280c9b-e8e6-44a5-c9cc-6fbfaa29f596"
      },
      "execution_count": null,
      "outputs": [
        {
          "output_type": "execute_result",
          "data": {
            "text/plain": [
              "6"
            ]
          },
          "metadata": {},
          "execution_count": 18
        }
      ]
    },
    {
      "cell_type": "code",
      "source": [
        "# 11. Write a program to find the common elements between two lists.\n",
        "def getCommonElements(l1,l2):\n",
        "  return list(set(l1).intersection(set(l2)))\n",
        "\n",
        "getCommonElements([1,2,4,5],[2,5,6,7])"
      ],
      "metadata": {
        "colab": {
          "base_uri": "https://localhost:8080/"
        },
        "id": "h5onC3-ejvmR",
        "outputId": "dc28135b-519c-4013-a834-98ed619dacba"
      },
      "execution_count": null,
      "outputs": [
        {
          "output_type": "execute_result",
          "data": {
            "text/plain": [
              "[2, 5]"
            ]
          },
          "metadata": {},
          "execution_count": 21
        }
      ]
    },
    {
      "cell_type": "code",
      "source": [
        "# 12. Implement a function to check if a given string is an anagram of another string.\n",
        "def isAnagram(s1,s2):\n",
        "  s1 = s1.lower()\n",
        "  s2 = s2.lower()\n",
        "  s1 = sorted(s1)\n",
        "  s2 = sorted(s2)\n",
        "\n",
        "  if s1==s2:\n",
        "    return True\n",
        "  return False\n",
        "isAnagram(\"race\",\"care\")"
      ],
      "metadata": {
        "colab": {
          "base_uri": "https://localhost:8080/"
        },
        "id": "P_j1jLoomkc7",
        "outputId": "3a6def89-be01-422e-e1b0-b6b9b771f016"
      },
      "execution_count": null,
      "outputs": [
        {
          "output_type": "execute_result",
          "data": {
            "text/plain": [
              "True"
            ]
          },
          "metadata": {},
          "execution_count": 29
        }
      ]
    },
    {
      "cell_type": "code",
      "source": [
        "# 13. Write a Python program to generate all permutations of a given string.\n",
        "\n",
        "def find_permutations(s):\n",
        "\tif len(s) == 1:\n",
        "\t\treturn [s]\n",
        "\telse:\n",
        "\t\tperms = []\n",
        "\t\tfor i, c in enumerate(s):\n",
        "\t\t\tfor perm in find_permutations(s[:i] + s[i+1:]):\n",
        "\t\t\t\tperms.append(c + perm)\n",
        "\t\treturn perms\n",
        "\n",
        "s = 'abc'\n",
        "print(find_permutations(s))"
      ],
      "metadata": {
        "colab": {
          "base_uri": "https://localhost:8080/"
        },
        "id": "D55Gi-K2mlDy",
        "outputId": "8cfbee5c-dae9-4f69-a2c1-dc9106cacb49"
      },
      "execution_count": null,
      "outputs": [
        {
          "output_type": "stream",
          "name": "stdout",
          "text": [
            "['abc', 'acb', 'bac', 'bca', 'cab', 'cba']\n"
          ]
        }
      ]
    },
    {
      "cell_type": "code",
      "source": [
        "# 14. Implement a function to calculate the Fibonacci sequence up to a given number of terms.\n",
        "def fibbanocci(n , l = [0,1]):\n",
        "  if n <= 2:\n",
        "    return l[:n+1]\n",
        "  for _ in range(2,n):\n",
        "    l.append(l[-1]+l[-2])\n",
        "\n",
        "  return l\n",
        "fibbanocci(5)"
      ],
      "metadata": {
        "colab": {
          "base_uri": "https://localhost:8080/"
        },
        "id": "DOLF9bcxmPYP",
        "outputId": "71998732-d539-42fc-9b93-6ff07f052a65"
      },
      "execution_count": null,
      "outputs": [
        {
          "output_type": "execute_result",
          "data": {
            "text/plain": [
              "[0, 1, 1, 2, 3]"
            ]
          },
          "metadata": {},
          "execution_count": 25
        }
      ]
    },
    {
      "cell_type": "code",
      "source": [
        "# 15. Write a program to find the median of a list of numbers.\n",
        "def getMedian(l):\n",
        "  l.sort()\n",
        "  return l[len(l)//2]\n",
        "\n",
        "getMedian([2,1,3,4,7,3])"
      ],
      "metadata": {
        "colab": {
          "base_uri": "https://localhost:8080/"
        },
        "id": "V6k_TJE8k__V",
        "outputId": "dc1cf637-32b8-4fca-d3e4-7a1643237d5a"
      },
      "execution_count": null,
      "outputs": [
        {
          "output_type": "execute_result",
          "data": {
            "text/plain": [
              "3"
            ]
          },
          "metadata": {},
          "execution_count": 26
        }
      ]
    },
    {
      "cell_type": "code",
      "source": [
        "# 16. Implement a function to check if a given list is sorted in non-decreasing order.\n",
        "def isSorted(l):\n",
        "  for i in range(1,len(l)):\n",
        "    if l[i-1] > l [i]:\n",
        "      return False\n",
        "  return True\n",
        "\n",
        "isSorted([1,2,3,4])"
      ],
      "metadata": {
        "colab": {
          "base_uri": "https://localhost:8080/"
        },
        "id": "g9ch3SYFszqK",
        "outputId": "e250a74a-b365-4bd4-9fe8-03f38e9fe5a4"
      },
      "execution_count": null,
      "outputs": [
        {
          "output_type": "execute_result",
          "data": {
            "text/plain": [
              "True"
            ]
          },
          "metadata": {},
          "execution_count": 33
        }
      ]
    },
    {
      "cell_type": "code",
      "source": [
        "# 17. Write a Python program to find the intersection of two lists.\n",
        "def getIntersection(l1,l2):\n",
        "  return set(l1).intersection(set(l2))\n",
        "\n",
        "getIntersection([1,2,3],[2,4,5])"
      ],
      "metadata": {
        "colab": {
          "base_uri": "https://localhost:8080/"
        },
        "id": "CgQRiNiHtoOs",
        "outputId": "f3f029ec-c412-4bbb-ab91-58653f7436ef"
      },
      "execution_count": null,
      "outputs": [
        {
          "output_type": "execute_result",
          "data": {
            "text/plain": [
              "{2}"
            ]
          },
          "metadata": {},
          "execution_count": 34
        }
      ]
    },
    {
      "cell_type": "code",
      "source": [
        "# 18. Implement a function to find the maximum subarray sum in a given list.\n",
        "def kadane(arr):\n",
        "    max_so_far = 0\n",
        "    max_ending_here = 0\n",
        "\n",
        "    for i in arr:\n",
        "        max_ending_here = max_ending_here + i\n",
        "        max_ending_here = max(max_ending_here, 0)\n",
        "        max_so_far = max(max_so_far, max_ending_here)\n",
        "    return max_so_far\n",
        "\n",
        "\n",
        "\n",
        "\n",
        "arr = [1,2,-3]\n",
        "kadane(arr)"
      ],
      "metadata": {
        "id": "y0CAL2XZvWmf",
        "colab": {
          "base_uri": "https://localhost:8080/"
        },
        "outputId": "ef2cfbd9-a22a-4297-c860-8a1ee44c393d"
      },
      "execution_count": 4,
      "outputs": [
        {
          "output_type": "execute_result",
          "data": {
            "text/plain": [
              "3"
            ]
          },
          "metadata": {},
          "execution_count": 4
        }
      ]
    },
    {
      "cell_type": "code",
      "source": [
        "# 19. Write a program to remove all vowels from a given string.\n",
        "def getConsonnants(s):\n",
        "  return \"\".join([i for i in s if i not in ['a','e','i','o','u']])\n",
        "getConsonnants(\"second\")"
      ],
      "metadata": {
        "colab": {
          "base_uri": "https://localhost:8080/",
          "height": 36
        },
        "id": "VyexEqgLvEI9",
        "outputId": "6b7792b6-64b4-43d2-e8a7-655e35b34825"
      },
      "execution_count": null,
      "outputs": [
        {
          "output_type": "execute_result",
          "data": {
            "text/plain": [
              "'scnd'"
            ],
            "application/vnd.google.colaboratory.intrinsic+json": {
              "type": "string"
            }
          },
          "metadata": {},
          "execution_count": 35
        }
      ]
    },
    {
      "cell_type": "code",
      "source": [
        "# 20. Implement a function to reverse the order of words in a given sentence.\n",
        "def fun(s):\n",
        "  return \" \".join([i[::-1] for i in s.split()])\n",
        "\n",
        "fun(\"the world is good\")"
      ],
      "metadata": {
        "colab": {
          "base_uri": "https://localhost:8080/",
          "height": 36
        },
        "id": "dlml76Qph9U-",
        "outputId": "67b7838c-0aa5-4353-da50-c45310b9fc92"
      },
      "execution_count": null,
      "outputs": [
        {
          "output_type": "execute_result",
          "data": {
            "text/plain": [
              "'eht dlrow si doog'"
            ],
            "application/vnd.google.colaboratory.intrinsic+json": {
              "type": "string"
            }
          },
          "metadata": {},
          "execution_count": 1
        }
      ]
    },
    {
      "cell_type": "code",
      "source": [
        "# 21. Write a Python program to check if two strings are anagrams of each other.\n",
        "def isAnagram(s1,s2):\n",
        "  s1 = s1.lower()\n",
        "  s2 = s2.lower()\n",
        "  s1 = sorted(s1)\n",
        "  s2 = sorted(s2)\n",
        "\n",
        "  if s1==s2:\n",
        "    return True\n",
        "  return False\n",
        "isAnagram(\"race\",\"care\")"
      ],
      "metadata": {
        "colab": {
          "base_uri": "https://localhost:8080/"
        },
        "id": "XJaKutxsiPb6",
        "outputId": "c83078f6-496c-4541-bd3c-b3735b8a7ea6"
      },
      "execution_count": null,
      "outputs": [
        {
          "output_type": "execute_result",
          "data": {
            "text/plain": [
              "True"
            ]
          },
          "metadata": {},
          "execution_count": 2
        }
      ]
    },
    {
      "cell_type": "code",
      "source": [
        "# 22. Implement a function to find the first non-repeating character in a string.\n",
        "def fun(s):\n",
        "  d={}\n",
        "  for i,v in enumerate(s):\n",
        "    if v in d:\n",
        "      del d[v]\n",
        "    else:\n",
        "      d[v]=i\n",
        "  if len(d) !=0:\n",
        "    return min(d.values())\n",
        "  else:\n",
        "    return -1\n",
        "\n",
        "fun(\"see the teacher\")"
      ],
      "metadata": {
        "colab": {
          "base_uri": "https://localhost:8080/"
        },
        "id": "nTArJlP1jAEM",
        "outputId": "37cb4fd0-ad9c-4360-de96-aff6ebc3c933"
      },
      "execution_count": null,
      "outputs": [
        {
          "output_type": "execute_result",
          "data": {
            "text/plain": [
              "0"
            ]
          },
          "metadata": {},
          "execution_count": 5
        }
      ]
    },
    {
      "cell_type": "code",
      "source": [
        "# 23. Write a program to find the prime factors of a given number.\n",
        "import math\n",
        "def primeFactors(n):\n",
        "\twhile n % 2 == 0:\n",
        "\t\tprint (2)\n",
        "\t\tn = n // 2\n",
        "\tfor i in range(3,int(math.sqrt(n))+1,2):\n",
        "\t\twhile n % i== 0:\n",
        "\t\t\tprint (i)\n",
        "\t\t\tn = n / i\n",
        "\tif n > 2:\n",
        "\t\tprint(n)\n",
        "\n",
        "n = 315\n",
        "primeFactors(n)"
      ],
      "metadata": {
        "id": "un-ppgJQj5UI",
        "colab": {
          "base_uri": "https://localhost:8080/"
        },
        "outputId": "f3974fd4-db0d-41cf-ef7f-6ddf66e0f683"
      },
      "execution_count": 5,
      "outputs": [
        {
          "output_type": "stream",
          "name": "stdout",
          "text": [
            "3\n",
            "3\n",
            "5\n",
            "7\n"
          ]
        }
      ]
    },
    {
      "cell_type": "code",
      "source": [
        "# 24. Implement a function to check if a given number is a power of two.\n",
        "def fun(n):\n",
        "  while n> 0:\n",
        "    if n%2 == 0:\n",
        "      n = n//2\n",
        "      if n==1:\n",
        "        return True\n",
        "    else:\n",
        "      return False\n",
        "  return True\n",
        "fun(4)"
      ],
      "metadata": {
        "colab": {
          "base_uri": "https://localhost:8080/"
        },
        "id": "0g2Pzzfmj4bm",
        "outputId": "3b1ed35b-5d72-4f5c-a46f-d34866f0c710"
      },
      "execution_count": null,
      "outputs": [
        {
          "output_type": "execute_result",
          "data": {
            "text/plain": [
              "True"
            ]
          },
          "metadata": {},
          "execution_count": 10
        }
      ]
    },
    {
      "cell_type": "code",
      "source": [
        "# 25. Write a Python program to merge two sorted lists into a single sorted list.\n",
        "test_list1 = [1, 3,5]\n",
        "test_list2 = [2, 4]\n",
        "size_1 = len(test_list1)\n",
        "size_2 = len(test_list2)\n",
        "\n",
        "res = []\n",
        "i, j = 0, 0\n",
        "\n",
        "while i < size_1 and j < size_2:\n",
        "\tif test_list1[i] < test_list2[j]:\n",
        "\t\tres.append(test_list1[i])\n",
        "\t\ti += 1\n",
        "\n",
        "\telse:\n",
        "\t\tres.append(test_list2[j])\n",
        "\t\tj += 1\n",
        "\n",
        "res = res + test_list1[i:] + test_list2[j:]\n",
        "print(\"The combined sorted list is : \" + str(res))\n"
      ],
      "metadata": {
        "colab": {
          "base_uri": "https://localhost:8080/"
        },
        "id": "AdjnS3ymoeQV",
        "outputId": "753d5465-65f7-4530-82e6-638c93e2e045"
      },
      "execution_count": null,
      "outputs": [
        {
          "output_type": "stream",
          "name": "stdout",
          "text": [
            "The combined sorted list is : [1, 2, 3, 4, 5]\n"
          ]
        }
      ]
    },
    {
      "cell_type": "code",
      "source": [
        "# 26. Implement a function to find the mode of a list of numbers.\n",
        "def fun(l):\n",
        "  d= {}\n",
        "  for i in l:\n",
        "    if i in d:\n",
        "      d[i] += 1\n",
        "    else:\n",
        "      d[i] = 1\n",
        "  maximum = max(d.values())\n",
        "  return [i[0] for i in d.items() if i[1]==maximum]\n",
        "\n",
        "\n",
        "fun([1,2,1,2])"
      ],
      "metadata": {
        "colab": {
          "base_uri": "https://localhost:8080/"
        },
        "id": "3LmBiDHzN4aS",
        "outputId": "984e537b-63a5-4c50-c25f-ad192f5850cc"
      },
      "execution_count": null,
      "outputs": [
        {
          "output_type": "execute_result",
          "data": {
            "text/plain": [
              "[1, 2]"
            ]
          },
          "metadata": {},
          "execution_count": 3
        }
      ]
    },
    {
      "cell_type": "code",
      "source": [
        "\n",
        "#27. Write a program to find the greatest common divisor (GCD) of two numbers.\n",
        "\n",
        "def gcd(a, b):\n",
        "\tresult = min(a, b)\n",
        "\twhile result:\n",
        "\t\tif a % result == 0 and b % result == 0:\n",
        "\t\t\tbreak\n",
        "\t\tresult -= 1\n",
        "\treturn result\n",
        "\n",
        "a = 98\n",
        "b = 56\n",
        "print(f\"GCD of {a} and {b} is {gcd(a, b)}\")"
      ],
      "metadata": {
        "id": "RdBSUTBIN96u",
        "colab": {
          "base_uri": "https://localhost:8080/"
        },
        "outputId": "651fdcfc-3d84-426c-cabf-511fc8608e0d"
      },
      "execution_count": 6,
      "outputs": [
        {
          "output_type": "stream",
          "name": "stdout",
          "text": [
            "GCD of 98 and 56 is 14\n"
          ]
        }
      ]
    },
    {
      "cell_type": "code",
      "source": [
        "# 28. Implement a function to calculate the square root of a given number.\n",
        "def floorSqrt(x):\n",
        "\tif (x == 0 or x == 1):\n",
        "\t\treturn x\n",
        "\ti = 1\n",
        "\tresult = 1\n",
        "\twhile (result <= x):\n",
        "\t\ti += 1\n",
        "\t\tresult = i * i\n",
        "\n",
        "\treturn i - 1\n",
        "\n",
        "x = 11\n",
        "print(floorSqrt(x))"
      ],
      "metadata": {
        "colab": {
          "base_uri": "https://localhost:8080/"
        },
        "id": "kVSFwt1ZfPbE",
        "outputId": "9a07627e-6551-4bb1-b252-9a67201dea60"
      },
      "execution_count": 7,
      "outputs": [
        {
          "output_type": "stream",
          "name": "stdout",
          "text": [
            "3\n"
          ]
        }
      ]
    },
    {
      "cell_type": "code",
      "source": [
        "# 29. Write a Python program to check if a given string is a valid palindrome ignoring non-alphanumeric characters.\n",
        "def fun(s):\n",
        "  s=s.lower()\n",
        "  # s = \"\".join([i for i in s if eval(i) not in range(10)])\n",
        "  if s==s[::-1]:\n",
        "    return True\n",
        "  return False\n",
        "\n",
        "fun('aba')"
      ],
      "metadata": {
        "colab": {
          "base_uri": "https://localhost:8080/"
        },
        "id": "TokbCucZfRwM",
        "outputId": "661551bb-39cd-4ce4-87a4-3d4e00e9f07a"
      },
      "execution_count": 25,
      "outputs": [
        {
          "output_type": "execute_result",
          "data": {
            "text/plain": [
              "True"
            ]
          },
          "metadata": {},
          "execution_count": 25
        }
      ]
    },
    {
      "cell_type": "code",
      "source": [
        "# 30. Implement a function to find the minimum element in a rotated sorted list.\n",
        "def fun(l):\n",
        "  minimum = l[0]\n",
        "  for i in l[1:]:\n",
        "    minimum = min(minimum,i)\n",
        "  return minimum\n",
        "\n",
        "fun([2,3,4,1])"
      ],
      "metadata": {
        "id": "gUqWsiSYQFrq",
        "colab": {
          "base_uri": "https://localhost:8080/"
        },
        "outputId": "2e927919-c05b-40bf-8301-ba1c07bb45d0"
      },
      "execution_count": 26,
      "outputs": [
        {
          "output_type": "execute_result",
          "data": {
            "text/plain": [
              "1"
            ]
          },
          "metadata": {},
          "execution_count": 26
        }
      ]
    },
    {
      "cell_type": "code",
      "source": [
        "# 31. Write a program to find the sum of all even numbers in a list.\n",
        "def fun(l):\n",
        "  return sum([i for i in l if i%2 == 0])\n",
        "\n",
        "fun([2,3,4,5,6])"
      ],
      "metadata": {
        "colab": {
          "base_uri": "https://localhost:8080/"
        },
        "id": "H8ud-i8NCu1D",
        "outputId": "8d7854e1-24a9-4be5-ecd7-f6ea17392e1f"
      },
      "execution_count": null,
      "outputs": [
        {
          "output_type": "execute_result",
          "data": {
            "text/plain": [
              "12"
            ]
          },
          "metadata": {},
          "execution_count": 1
        }
      ]
    },
    {
      "cell_type": "code",
      "source": [
        "# 32. Implement a function to calculate the power of a number using recursion.\n",
        "\n",
        "def fun(pow,num):\n",
        "  if pow == 1:\n",
        "    return num\n",
        "  elif pow == 0:\n",
        "    return 1\n",
        "\n",
        "  else:\n",
        "    return num* fun(pow-1,num)\n",
        "\n",
        "fun(5,2)"
      ],
      "metadata": {
        "colab": {
          "base_uri": "https://localhost:8080/"
        },
        "id": "Wn15tgEGDg7m",
        "outputId": "e9e60858-98be-4263-9b30-8029339138de"
      },
      "execution_count": null,
      "outputs": [
        {
          "output_type": "execute_result",
          "data": {
            "text/plain": [
              "32"
            ]
          },
          "metadata": {},
          "execution_count": 2
        }
      ]
    },
    {
      "cell_type": "code",
      "source": [
        "# 33. Write a Python program to remove duplicates from a list while preserving the order.\n",
        "def fun(l):\n",
        "  ptr=1\n",
        "  while True:\n",
        "    try:\n",
        "      if l[ptr] in l[:ptr]:\n",
        "        del l[ptr]\n",
        "      else:\n",
        "        ptr += 1\n",
        "    except Exception as e:\n",
        "      return l\n",
        "\n",
        "fun([1,2,1,2,3,4,4,4])"
      ],
      "metadata": {
        "colab": {
          "base_uri": "https://localhost:8080/"
        },
        "id": "Uj2Hha9kFELF",
        "outputId": "a565d02d-b816-4bd6-d7a3-65d5260886be"
      },
      "execution_count": null,
      "outputs": [
        {
          "output_type": "execute_result",
          "data": {
            "text/plain": [
              "[1, 2, 3, 4]"
            ]
          },
          "metadata": {},
          "execution_count": 6
        }
      ]
    },
    {
      "cell_type": "code",
      "source": [
        "# 34. Implement a function to find the longest common prefix among a list of strings.\n",
        "def fun(l):\n",
        "  pre = l[0]\n",
        "  while True:\n",
        "    if all([pre in i for i in l]):\n",
        "      break\n",
        "    pre = pre[:-1]\n",
        "\n",
        "  return pre\n",
        "fun(['geeks','geek','gee'])"
      ],
      "metadata": {
        "id": "8GXxTliyQXY8",
        "colab": {
          "base_uri": "https://localhost:8080/",
          "height": 36
        },
        "outputId": "4845850d-f615-4c7d-b1e4-505b4f310bec"
      },
      "execution_count": 29,
      "outputs": [
        {
          "output_type": "execute_result",
          "data": {
            "text/plain": [
              "'gee'"
            ],
            "application/vnd.google.colaboratory.intrinsic+json": {
              "type": "string"
            }
          },
          "metadata": {},
          "execution_count": 29
        }
      ]
    },
    {
      "cell_type": "code",
      "source": [
        "# 35. Write a program to check if a given number is a perfect square.\n",
        "def fun(n):\n",
        "  res = [i for i in range(n) if i*i == n]\n",
        "  if len(res)!=0:\n",
        "    return res[0]\n",
        "  return -1\n",
        "fun(8)"
      ],
      "metadata": {
        "colab": {
          "base_uri": "https://localhost:8080/"
        },
        "id": "9btmyWPcI-gT",
        "outputId": "ba72d3ea-4f4a-4217-f62c-8d8c87c44fec"
      },
      "execution_count": null,
      "outputs": [
        {
          "output_type": "execute_result",
          "data": {
            "text/plain": [
              "-1"
            ]
          },
          "metadata": {},
          "execution_count": 13
        }
      ]
    },
    {
      "cell_type": "code",
      "source": [
        "# 36. Implement a function to calculate the product of all elements in a list.\n",
        "def fun(l):\n",
        "  prod=1\n",
        "  for i in l:\n",
        "    prod *= i\n",
        "  return prod\n",
        "\n",
        "fun([1,2,3])"
      ],
      "metadata": {
        "colab": {
          "base_uri": "https://localhost:8080/"
        },
        "id": "k8eT0M7nHlsg",
        "outputId": "d08a7112-b895-409f-9c0b-fc3f5850e06c"
      },
      "execution_count": null,
      "outputs": [
        {
          "output_type": "execute_result",
          "data": {
            "text/plain": [
              "6"
            ]
          },
          "metadata": {},
          "execution_count": 7
        }
      ]
    },
    {
      "cell_type": "code",
      "source": [
        "# 37. Write a Python program to reverse the order of words in a sentence while preserving the word order.\n",
        "def fun(s):\n",
        "  return \" \".join([i[::-1] for i in s.split()])\n",
        "\n",
        "fun(\"the world is good\")"
      ],
      "metadata": {
        "colab": {
          "base_uri": "https://localhost:8080/",
          "height": 35
        },
        "id": "8NXFSWhhKmxh",
        "outputId": "e9ed793a-e487-41ad-c60f-4a1e9f3e96d9"
      },
      "execution_count": null,
      "outputs": [
        {
          "output_type": "execute_result",
          "data": {
            "text/plain": [
              "'eht dlrow si doog'"
            ],
            "application/vnd.google.colaboratory.intrinsic+json": {
              "type": "string"
            }
          },
          "metadata": {},
          "execution_count": 14
        }
      ]
    },
    {
      "cell_type": "code",
      "source": [
        "# 38. Implement a function to find the missing number in a given list of consecutive numbers.\n",
        "def sum_n(n):\n",
        "  return (n*(n+1))//2\n",
        "def fun(l):\n",
        "  (mini,maxi) = (min(l)-1,max(l))\n",
        "  return sum_n(maxi)-sum_n(mini)-sum(l)\n",
        "\n",
        "fun([4,5,6,7,9])\n"
      ],
      "metadata": {
        "id": "Wz-EMzLdQtWP",
        "colab": {
          "base_uri": "https://localhost:8080/"
        },
        "outputId": "5e83510d-d673-473d-8359-75d8c0261e57"
      },
      "execution_count": 38,
      "outputs": [
        {
          "output_type": "execute_result",
          "data": {
            "text/plain": [
              "8"
            ]
          },
          "metadata": {},
          "execution_count": 38
        }
      ]
    },
    {
      "cell_type": "code",
      "source": [
        "# 39. Write a program to find the sum of digits of a given number.\n",
        "def fun(n):\n",
        "  return sum([int(i) for i in str(n)])\n",
        "\n",
        "fun(123)"
      ],
      "metadata": {
        "id": "at3aUOKZQkXz"
      },
      "execution_count": null,
      "outputs": []
    },
    {
      "cell_type": "code",
      "source": [
        "# 40. Implement a function to check if a given string is a valid palindrome considering case sensitivity.\n",
        "def fun(s):\n",
        "  # s = \"\".join([i for i in s if eval(i) not in range(10)])\n",
        "  if s==s[::-1]:\n",
        "    return True\n",
        "  return False\n",
        "\n",
        "fun('aba')"
      ],
      "metadata": {
        "id": "9D4Q0VvhRBAP"
      },
      "execution_count": null,
      "outputs": []
    },
    {
      "cell_type": "code",
      "source": [
        "# 41. Write a Python program to find the smallest missing positive integer in a list.\n",
        "def solution(A):\n",
        "\tm = max(A)\n",
        "\tif m < 1:\n",
        "\t\treturn 1\n",
        "\tif len(A) == 1:\n",
        "\t\treturn 2 if A[0] == 1 else 1\n",
        "\tl = [0] * m\n",
        "\tfor i in range(len(A)):\n",
        "\t\tif A[i] > 0:\n",
        "\t\t\tif l[A[i] - 1] != 1:\n",
        "\t\t\t\tl[A[i] - 1] = 1\n",
        "\tfor i in range(len(l)):\n",
        "\t\tif l[i] == 0:\n",
        "\t\t\treturn i + 1\n",
        "\treturn i + 2\n",
        "\n",
        "arr = [0, 10, 2, -10, -20]\n",
        "print(solution(arr))"
      ],
      "metadata": {
        "colab": {
          "base_uri": "https://localhost:8080/"
        },
        "id": "2R_QOOgIlQhT",
        "outputId": "35bb0f97-5d45-4609-8208-49b2899408ed"
      },
      "execution_count": 39,
      "outputs": [
        {
          "output_type": "stream",
          "name": "stdout",
          "text": [
            "1\n"
          ]
        }
      ]
    },
    {
      "cell_type": "code",
      "source": [
        "# 42. Implement a function to find the longest palindrome substring in a given string.\n",
        "def longestPalSubstr(s):\n",
        "\tn = len(s)\n",
        "\tlongest = \"\"\n",
        "\tj = 0\n",
        "\tsubs = \"\"\n",
        "\tsubsrev = \"\"\n",
        "\tfor i in range(n):\n",
        "\t\tj = n-1\n",
        "\t\twhile i < j:\n",
        "\t\t\tif(s[i] == s[j] and len(longest) < (j-i+1)):\n",
        "\t\t\t\tsubs = s[i:(j+1)]\n",
        "\t\t\t\tsubsrev = subs[::-1]\n",
        "\t\t\t\tif(subs == subsrev):\n",
        "\t\t\t\t\tlongest = subs\n",
        "\t\t\tj -= 1\n",
        "\tif(len(longest) == 0):\n",
        "\t\tlongest = s[0]\n",
        "\tprint(\"Longest palindrome substring is: \" + longest)\n",
        "\treturn len(longest)\n",
        "\n",
        "\n",
        "\n",
        "my_str = \"forgeeksskeegfor\"\n",
        "print(\"Length is: \" + str(longestPalSubstr(my_str)))"
      ],
      "metadata": {
        "colab": {
          "base_uri": "https://localhost:8080/"
        },
        "id": "0W6QiKqqmcPC",
        "outputId": "7ba05fe5-01be-46b8-d4f1-dcd69ab2747d"
      },
      "execution_count": 41,
      "outputs": [
        {
          "output_type": "stream",
          "name": "stdout",
          "text": [
            "Longest palindrome substring is: geeksskeeg\n",
            "Length is: 10\n"
          ]
        }
      ]
    },
    {
      "cell_type": "code",
      "source": [
        "# 43. Write a program to find the number of occurrences of a given element in a list.\n",
        "def fun(l,ele):\n",
        "  return sum([1 for i in l if i==ele])\n",
        "\n",
        "fun([1,2,3,1,1,4],1)"
      ],
      "metadata": {
        "colab": {
          "base_uri": "https://localhost:8080/"
        },
        "id": "htPOqtugmCOs",
        "outputId": "aa1351f6-d9a4-4970-85ca-20219cd2c001"
      },
      "execution_count": 40,
      "outputs": [
        {
          "output_type": "execute_result",
          "data": {
            "text/plain": [
              "3"
            ]
          },
          "metadata": {},
          "execution_count": 40
        }
      ]
    },
    {
      "cell_type": "code",
      "source": [
        "# 44. Implement a function to check if a given number is a perfect number.\n",
        "def isPerfect( n ):\n",
        "\tsum = 1\n",
        "\ti = 2\n",
        "\twhile i * i <= n:\n",
        "\t\tif n % i == 0:\n",
        "\t\t\tsum = sum + i + n/i\n",
        "\t\ti += 1\n",
        "\treturn (True if sum == n and n!=1 else False)\n",
        "\n",
        "isPerfect(6)"
      ],
      "metadata": {
        "colab": {
          "base_uri": "https://localhost:8080/"
        },
        "id": "QyViodWUnLXe",
        "outputId": "096b1fd1-6c05-4b07-9141-33f0b547a76a"
      },
      "execution_count": 43,
      "outputs": [
        {
          "output_type": "execute_result",
          "data": {
            "text/plain": [
              "True"
            ]
          },
          "metadata": {},
          "execution_count": 43
        }
      ]
    },
    {
      "cell_type": "code",
      "source": [
        "# 45. Write a Python program to remove all duplicates from a string.\n",
        "def fun(s):\n",
        "  return \"\".join(set(s))\n",
        "\n",
        "fun('leetcode')"
      ],
      "metadata": {
        "id": "3H2mVPVJRDUi",
        "colab": {
          "base_uri": "https://localhost:8080/",
          "height": 36
        },
        "outputId": "64b154e5-3718-4ec9-f0c4-84277c8ec07e"
      },
      "execution_count": 44,
      "outputs": [
        {
          "output_type": "execute_result",
          "data": {
            "text/plain": [
              "'ocedlt'"
            ],
            "application/vnd.google.colaboratory.intrinsic+json": {
              "type": "string"
            }
          },
          "metadata": {},
          "execution_count": 44
        }
      ]
    }
  ]
}
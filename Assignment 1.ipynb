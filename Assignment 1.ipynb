{
 "cells": [
  {
   "cell_type": "markdown",
   "id": "3d8f146a",
   "metadata": {},
   "source": [
    "**`Question1`**\n",
    "## 1. In the below elements which of them are values or an expression? eg:- values can be integer or string and expressions will be mathematical operators.\n",
    "* `*` ,`'hello'`,`-87.8`, `-`  , `/` , `+`\t,`6` \n",
    "\n",
    "\n",
    "> **`Answer`** :'hello', -87.8, 6 are values and * ,-,/,+ are mathematical operators"
   ]
  },
  {
   "cell_type": "markdown",
   "id": "242f088f",
   "metadata": {},
   "source": [
    "**`Question2`**\n",
    "## 2. What is the difference between string and variable?\n",
    "> **`Answer`** :  string is type of data containing sequence of characters while variable is an entity that stores data of any type"
   ]
  },
  {
   "cell_type": "markdown",
   "id": "1824f786",
   "metadata": {},
   "source": [
    "**`Question3`**\n",
    "## 3. Describe three different data types.\n",
    "> **`Answer`** :Numeric,Boolean,string\n",
    "\n",
    ">Numeric data can be of type integer,float ,complex \n",
    "\n",
    "> Boolean data type consists of only two values True,False.\n",
    "\n",
    ">Strings are sequence of characters written in single or double-quote or triple-quote"
   ]
  },
  {
   "cell_type": "markdown",
   "id": "3ea7638f",
   "metadata": {},
   "source": [
    "**`Question4`**\n",
    "## 4. What is an expression made up of? What do all expressions do?\n",
    "> **`Answer`** :Expressions are made up of operator and operands.They does the specified operation based on operator on the operands given to produce an output."
   ]
  },
  {
   "cell_type": "markdown",
   "id": "c37bf030",
   "metadata": {},
   "source": [
    "**`Question5`**\n",
    "## 5. This assignment statements, like spam = 10. What is the difference between an expression and a statement?\n",
    "> **`Answer`** :Expression returns a value while assignment statement does not return any value it just simply stores value in the memory which is refernced to variable name "
   ]
  },
  {
   "cell_type": "markdown",
   "id": "8e90d205",
   "metadata": {},
   "source": [
    "**`Question6`**\n",
    "## 6. After running the following code, what does the variable bacon contain?\n",
    "bacon = 22\n",
    "bacon + 1\n",
    "> **`Answer`** :22\n",
    "\n",
    "**`Question7`**\n",
    "## 7. What should the values of the following two terms be?\n",
    "* 'spam' + 'spamspam'\n",
    "* 'spam' * 3\n",
    "> **`Answer`** : \"spamspamspam\",\"spamspamspam\"\n",
    "\n",
    "\n",
    "**`Question8`**\n",
    "## 8. Why is eggs a valid variable name while 100 is invalid?\n",
    "> **`Answer`** : eggs follows the naming convention but 100 does not as the naming convention says that variable name should not start with a number\n",
    "\n",
    "\n",
    "**`Question9`**\n",
    "## 9. What three functions can be used to get the integer, floating-point number, or string version of a value?\n",
    "> **`Answer`** : `int()`,`float()`, `str()` are the three functions respectively\n",
    "\n",
    "\n",
    "\n",
    "**`Question10`**\n",
    "## 10. Why does this expression cause an error? How can you fix it?\n",
    "'I have eaten ' + 99 + ' burritos.'\n",
    "> **`Answer`** : This expression causes an error because we can only concatenate one string with another string but not with integer\n",
    "\n",
    "> 'I have eaten ' + '99' + ' burritos.'\n",
    "\n",
    ">'I have eaten ' + str(99) + ' burritos.'\n"
   ]
  },
  {
   "cell_type": "code",
   "execution_count": null,
   "id": "390b559d",
   "metadata": {},
   "outputs": [],
   "source": []
  }
 ],
 "metadata": {
  "kernelspec": {
   "display_name": "Python 3 (ipykernel)",
   "language": "python",
   "name": "python3"
  },
  "language_info": {
   "codemirror_mode": {
    "name": "ipython",
    "version": 3
   },
   "file_extension": ".py",
   "mimetype": "text/x-python",
   "name": "python",
   "nbconvert_exporter": "python",
   "pygments_lexer": "ipython3",
   "version": "3.9.12"
  }
 },
 "nbformat": 4,
 "nbformat_minor": 5
}

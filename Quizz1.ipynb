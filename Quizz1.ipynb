{
  "nbformat": 4,
  "nbformat_minor": 0,
  "metadata": {
    "colab": {
      "provenance": []
    },
    "kernelspec": {
      "name": "python3",
      "display_name": "Python 3"
    },
    "language_info": {
      "name": "python"
    }
  },
  "cells": [
    {
      "cell_type": "code",
      "execution_count": 10,
      "metadata": {
        "colab": {
          "base_uri": "https://localhost:8080/"
        },
        "id": "dBgT73Ta3XyC",
        "outputId": "1f34665c-dace-412d-ea99-5ef04250c758"
      },
      "outputs": [
        {
          "output_type": "stream",
          "name": "stdout",
          "text": [
            "[]\n"
          ]
        }
      ],
      "source": [
        "# Solution 1\n",
        "nums= [0,1,0,3,12]\n",
        "\n",
        "for i,v in enumerate(nums):\n",
        "  if v==0:\n",
        "    nums.append(0)\n",
        "    nums.pop(i)\n",
        "print(nums))"
      ]
    },
    {
      "cell_type": "code",
      "source": [
        "# Solution 2\n",
        "s=\"a\"\n",
        "res = len(s)\n",
        "\n",
        "for i in set(s):\n",
        "  if s.count(i) ==1:\n",
        "    res = min(res,s.index(i))\n",
        "\n",
        "if res == len(s):\n",
        "  res = -1\n",
        "\n",
        "print(res)"
      ],
      "metadata": {
        "colab": {
          "base_uri": "https://localhost:8080/"
        },
        "id": "BZP4mQml4CQW",
        "outputId": "a9a2b91a-0525-47e0-9aaf-c6431fe2beaa"
      },
      "execution_count": 7,
      "outputs": [
        {
          "output_type": "stream",
          "name": "stdout",
          "text": [
            "0\n"
          ]
        }
      ]
    },
    {
      "cell_type": "code",
      "source": [],
      "metadata": {
        "id": "XoQvw2fa57Mw"
      },
      "execution_count": null,
      "outputs": []
    }
  ]
}
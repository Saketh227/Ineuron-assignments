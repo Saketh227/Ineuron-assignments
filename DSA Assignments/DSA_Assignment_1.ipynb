{
  "nbformat": 4,
  "nbformat_minor": 0,
  "metadata": {
    "colab": {
      "provenance": []
    },
    "kernelspec": {
      "name": "python3",
      "display_name": "Python 3"
    },
    "language_info": {
      "name": "python"
    }
  },
  "cells": [
    {
      "cell_type": "markdown",
      "source": [
        "\n",
        "**Q1.** Given an array of integers nums and an integer target, return indices of the two numbers such that they add up to target.\n",
        "\n",
        "You may assume that each input would have exactly one solution, and you may not use the same element twice.\n",
        "\n",
        "You can return the answer in any order.\n",
        "\n",
        "**Example:** <br>\n",
        "Input: \n",
        "    nums = [2,7,11,15], \n",
        "    target = 9\n",
        "Output0 [0,1]\n",
        "\n"
      ],
      "metadata": {
        "id": "qcx8iTuBAsmI"
      }
    },
    {
      "cell_type": "code",
      "source": [
        "nums = [2,7,11,15]\n",
        "temp = list(set(nums)) # to avoid duplicates\n",
        "target = 9\n",
        "result=[]\n",
        "for i in temp:\n",
        "  # search for complements in temp\n",
        "  if target-i in temp[temp.index(i)+1:]:\n",
        "    # search for the index of value in nums list and add to result\n",
        "    result.extend([nums.index(i),nums.index(target-i)])\n",
        "print(result)\n"
      ],
      "metadata": {
        "colab": {
          "base_uri": "https://localhost:8080/"
        },
        "id": "a9FKylBKA9Gt",
        "outputId": "7381068a-0de2-4570-e9f7-795a50787bbd"
      },
      "execution_count": 17,
      "outputs": [
        {
          "output_type": "stream",
          "name": "stdout",
          "text": [
            "[0, 1]\n"
          ]
        }
      ]
    },
    {
      "cell_type": "markdown",
      "source": [
        "\n",
        "**Q2.** Given an integer array nums and an integer val, remove all occurrences of val in nums in-place. The order of the elements may be changed. Then return the number of elements in nums which are not equal to val.\n",
        "\n",
        "Consider the number of elements in nums which are not equal to val be k, to get accepted, you need to do the following things:\n",
        "\n",
        "- Change the array nums such that the first k elements of nums contain the elements which are not equal to val. The remaining elements of nums are not important as well as the size of nums.\n",
        "- Return k.\n",
        "\n",
        "**Example :**\n",
        "Input: nums = [3,2,2,3], val = 3\n",
        "Output: 2, nums = [2,2,_*,_*]"
      ],
      "metadata": {
        "id": "7LQaaOELJD9t"
      }
    },
    {
      "cell_type": "code",
      "source": [
        "nums = [3,2,2,3]\n",
        "length = len(nums)\n",
        "val = 3\n",
        "\n",
        "# Solution \n",
        "\n",
        "k = len(nums)-nums.count(val)\n",
        "print(k)"
      ],
      "metadata": {
        "colab": {
          "base_uri": "https://localhost:8080/"
        },
        "id": "1_VSBcmLJOu5",
        "outputId": "058d9fab-4440-4fab-9c7d-f4d6c7564568"
      },
      "execution_count": 24,
      "outputs": [
        {
          "output_type": "stream",
          "name": "stdout",
          "text": [
            "2\n"
          ]
        }
      ]
    },
    {
      "cell_type": "markdown",
      "source": [
        "**Q3.** Given a sorted array of distinct integers and a target value, return the index if the target is found. If not, return the index where it would be if it were inserted in order.\n",
        "\n",
        "You must write an algorithm with O(log n) runtime complexity.\n",
        "\n",
        "**Example 1:**\n",
        "Input: nums = [1,3,5,6], target = 5\n",
        "\n",
        "Output: 2\n"
      ],
      "metadata": {
        "id": "6TFvq4RLLyN3"
      }
    },
    {
      "cell_type": "code",
      "source": [
        "nums = [1,3,5,6]\n",
        "target = 4\n",
        "\n",
        "if target in nums:\n",
        "  result = nums.index(target)\n",
        "else:\n",
        "  for i in nums:\n",
        "    if target < i:\n",
        "      result = nums.index(i)\n",
        "      break\n",
        "\n",
        "print(result)"
      ],
      "metadata": {
        "colab": {
          "base_uri": "https://localhost:8080/"
        },
        "id": "eJvWQTWdL23D",
        "outputId": "e09df699-0353-464d-f7f2-97068648f11a"
      },
      "execution_count": 26,
      "outputs": [
        {
          "output_type": "stream",
          "name": "stdout",
          "text": [
            "2\n"
          ]
        }
      ]
    },
    {
      "cell_type": "markdown",
      "source": [
        "**Q4.** You are given a large integer represented as an integer array digits, where each digits[i] is the ith digit of the integer. The digits are ordered from most significant to least significant in left-to-right order. The large integer does not contain any leading 0's.\n",
        "\n",
        "Increment the large integer by one and return the resulting array of digits.\n",
        "\n",
        "**Example 1:**\n",
        "Input: digits = [1,2,3]\n",
        "Output: [1,2,4]\n",
        "\n",
        "**Explanation:** The array represents the integer 123.\n",
        "\n",
        "Incrementing by one gives 123 + 1 = 124.\n",
        "Thus, the result should be [1,2,4].\n"
      ],
      "metadata": {
        "id": "Ft7RRRW8NmB8"
      }
    },
    {
      "cell_type": "code",
      "source": [
        "digits = [1,2,3]\n",
        "digits=[str(i) for i in digits]\n",
        "digits=int( \"\".join(digits))+1\n",
        "digits=[i for i in str(digits)]\n",
        "digits"
      ],
      "metadata": {
        "colab": {
          "base_uri": "https://localhost:8080/"
        },
        "id": "hxtU3X49Nsb2",
        "outputId": "c10efd4a-c47e-451e-a2eb-9e112186e7f8"
      },
      "execution_count": 28,
      "outputs": [
        {
          "output_type": "execute_result",
          "data": {
            "text/plain": [
              "['1', '2', '4']"
            ]
          },
          "metadata": {},
          "execution_count": 28
        }
      ]
    },
    {
      "cell_type": "markdown",
      "source": [
        "**Q5.** You are given two integer arrays nums1 and nums2, sorted in non-decreasing order, and two integers m and n, representing the number of elements in nums1 and nums2 respectively.\n",
        "\n",
        "Merge nums1 and nums2 into a single array sorted in non-decreasing order.\n",
        "\n",
        "The final sorted array should not be returned by the function, but instead be stored inside the array nums1. To accommodate this, nums1 has a length of m + n, where the first m elements denote the elements that should be merged, and the last n elements are set to 0 and should be ignored. nums2 has a length of n.\n",
        "\n",
        "**Example 1:**\n",
        "Input: nums1 = [1,2,3,0,0,0], m = 3, nums2 = [2,5,6], n = 3\n",
        "Output: [1,2,2,3,5,6]\n",
        "\n",
        "**Explanation:** The arrays we are merging are [1,2,3] and [2,5,6].\n",
        "The result of the merge is [1,2,2,3,5,6] with the underlined elements coming from nums1.\n"
      ],
      "metadata": {
        "id": "hJFZwtd2PAqP"
      }
    },
    {
      "cell_type": "code",
      "source": [
        "nums1 = [1,2,3,0,0,0]\n",
        "nums2 = [2,5,6]\n",
        "m=3\n",
        "n=3\n",
        "for i in nums2:\n",
        "  index = nums1.index(0)\n",
        "  nums1[index]=i\n",
        "nums1.sort()\n",
        "print(nums1)"
      ],
      "metadata": {
        "colab": {
          "base_uri": "https://localhost:8080/"
        },
        "id": "WriV8T1-PEnk",
        "outputId": "1f83a78d-7874-40df-931f-283447e62784"
      },
      "execution_count": 31,
      "outputs": [
        {
          "output_type": "stream",
          "name": "stdout",
          "text": [
            "[1, 2, 2, 3, 5, 6]\n"
          ]
        }
      ]
    },
    {
      "cell_type": "markdown",
      "source": [
        "**Q6.** Given an integer array nums, return true if any value appears at least twice in the array, and return false if every element is distinct.\n",
        "\n",
        "**Example 1:**\n",
        "Input: nums = [1,2,3,1]\n",
        "\n",
        "Output: true"
      ],
      "metadata": {
        "id": "o9X_zmUeQjqB"
      }
    },
    {
      "cell_type": "code",
      "source": [
        "\n",
        "\n",
        "def if_unique(nums):\n",
        "  result = False\n",
        "  for i in nums:\n",
        "    if i in nums[nums.index(i)+1:]:\n",
        "      result = True\n",
        "      break\n",
        "  return result\n",
        "print(if_unique([1,2,3,1]))\n",
        "print(if_unique([1,2,3,4])) "
      ],
      "metadata": {
        "colab": {
          "base_uri": "https://localhost:8080/"
        },
        "id": "C6yxAF8bQmLB",
        "outputId": "278a9faf-bd65-4666-eb40-8491f3eb14df"
      },
      "execution_count": 35,
      "outputs": [
        {
          "output_type": "stream",
          "name": "stdout",
          "text": [
            "True\n",
            "False\n"
          ]
        }
      ]
    },
    {
      "cell_type": "markdown",
      "source": [
        "**Q7.** Given an integer array nums, move all 0's to the end of it while maintaining the relative order of the nonzero elements.\n",
        "\n",
        "Note that you must do this in-place without making a copy of the array.\n",
        "\n",
        "**Example 1:**\n",
        "Input: nums = [0,1,0,3,12]\n",
        "Output: [1,3,12,0,0]"
      ],
      "metadata": {
        "id": "u5MjljABRpXf"
      }
    },
    {
      "cell_type": "code",
      "source": [
        "nums = [0,1,0,3,1,2]\n",
        "result=[]\n",
        "pointer=0\n",
        "for i in nums:\n",
        "  if i != 0:\n",
        "    result.insert(pointer,i)\n",
        "    pointer += 1\n",
        "  else:\n",
        "    result.insert(-1,i)\n",
        "print(result)\n"
      ],
      "metadata": {
        "colab": {
          "base_uri": "https://localhost:8080/"
        },
        "id": "7xuJwqONRrvW",
        "outputId": "39acdf00-9c15-48ab-e45d-76278af7fe4c"
      },
      "execution_count": 36,
      "outputs": [
        {
          "output_type": "stream",
          "name": "stdout",
          "text": [
            "[1, 3, 1, 2, 0, 0]\n"
          ]
        }
      ]
    },
    {
      "cell_type": "markdown",
      "source": [
        "**Q8.** You have a set of integers s, which originally contains all the numbers from 1 to n. Unfortunately, due to some error, one of the numbers in s got duplicated to another number in the set, which results in repetition of one number and loss of another number.\n",
        "\n",
        "You are given an integer array nums representing the data status of this set after the error.\n",
        "\n",
        "Find the number that occurs twice and the number that is missing and return them in the form of an array.\n",
        "\n",
        "**Example 1:**\n",
        "Input: nums = [1,2,2,4]\n",
        "Output: [2,3]"
      ],
      "metadata": {
        "id": "-e5ojKmISovJ"
      }
    },
    {
      "cell_type": "code",
      "source": [
        "nums = [1,2,2,4]\n",
        "\n",
        "result=[]\n",
        "\n",
        "for i in range(1,max(nums)+1):\n",
        "  if nums.count(i)>1:\n",
        "    repeated = i\n",
        "  if i not in nums:\n",
        "    missing = i\n",
        "  \n",
        "result.extend([repeated,missing])\n",
        "print(result)\n"
      ],
      "metadata": {
        "colab": {
          "base_uri": "https://localhost:8080/"
        },
        "id": "CT3OyisiSrgH",
        "outputId": "2ea3bf0a-4fdc-4822-a2a9-837c486a95d1"
      },
      "execution_count": 42,
      "outputs": [
        {
          "output_type": "stream",
          "name": "stdout",
          "text": [
            "[2, 3]\n"
          ]
        }
      ]
    },
    {
      "cell_type": "code",
      "source": [],
      "metadata": {
        "id": "3PW7y8sBUizD"
      },
      "execution_count": null,
      "outputs": []
    }
  ]
}
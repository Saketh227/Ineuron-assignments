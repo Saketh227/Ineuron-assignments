{
  "nbformat": 4,
  "nbformat_minor": 0,
  "metadata": {
    "colab": {
      "provenance": []
    },
    "kernelspec": {
      "name": "python3",
      "display_name": "Python 3"
    },
    "language_info": {
      "name": "python"
    }
  },
  "cells": [
    {
      "cell_type": "markdown",
      "source": [
        "**Question 1**:<br>\n",
        "Given an integer array nums of 2n integers, group these integers into n pairs (a1, b1), (a2, b2),\n",
        "..., (an, bn) such that the sum of min(ai, bi) for all i is maximized. Return the maximized sum.\n",
        "\n",
        "**Example 1**:<br>\n",
        "Input: nums = [1,4,3,2]\n",
        "Output: 4\n",
        "Explanation: All possible pairings (ignoring the ordering of elements) are:\n",
        "1. (1, 4), (2, 3) -> min(1, 4) + min(2, 3) = 1 + 2 = 3\n",
        "2. (1, 3), (2, 4) -> min(1, 3) + min(2, 4) = 1 + 2 = 3\n",
        "3. (1, 2), (3, 4) -> min(1, 2) + min(3, 4) = 1 + 3 = 4\n",
        "So the maximum possible sum is 4"
      ],
      "metadata": {
        "id": "dZrLb2jZjEjs"
      }
    },
    {
      "cell_type": "code",
      "source": [
        "def max_of_min_sum(nums :list):\n",
        "  # lets sort the list\n",
        "  nums.sort()\n",
        "\n",
        "  # lets access the elements at indices 0,2,4 ans so on and add all the elements\n",
        "  result = sum([i for i in nums[::2]])\n",
        "  return result\n",
        "\n",
        "max_of_min_sum([1,2,4,3])"
      ],
      "metadata": {
        "colab": {
          "base_uri": "https://localhost:8080/"
        },
        "id": "7gHwWRlpjE4L",
        "outputId": "2f819d3e-e229-4788-93aa-f5b1d221275d"
      },
      "execution_count": 1,
      "outputs": [
        {
          "output_type": "execute_result",
          "data": {
            "text/plain": [
              "4"
            ]
          },
          "metadata": {},
          "execution_count": 1
        }
      ]
    },
    {
      "cell_type": "markdown",
      "source": [
        "**`Question 2`** : <br>\n",
        "Alice has n candies, where the ith candy is of type candyType[i]. Alice noticed that she started\n",
        "to gain weight, so she visited a doctor.\n",
        "The doctor advised Alice to only eat n / 2 of the candies she has (n is always even). Alice\n",
        "likes her candies very much, and she wants to eat the maximum number of different types of\n",
        "candies while still following the doctor's advice.\n",
        "Given the integer array candyType of length n, return the maximum number of different types\n",
        "of candies she can eat if she only eats n / 2 of them.\n",
        "\n",
        "**`Example 1`**: <br>\n",
        "Input: <br>\n",
        "    candyType = [1,1,2,2,3,3] <br>\n",
        "    Output: 3 <br>\n",
        "**`Explanation: `** <br>\n",
        "Alice can only eat 6 / 2 = 3 candies. Since there are only 3 types, she can eat one\n",
        "of each type."
      ],
      "metadata": {
        "id": "gEPnNQs7jFlV"
      }
    },
    {
      "cell_type": "code",
      "source": [
        "# Solution 1\n",
        "def max_candy_types(candies:list):\n",
        "  d={}\n",
        "  res =0\n",
        "  target = len(candies)/2\n",
        "  for i in set(candies):\n",
        "    d[i]=candies.count(i)\n",
        "  res=min(len(d.keys()),target)\n",
        "\n",
        "  for k,v in d.items():\n",
        "    if target !=0:\n",
        "      if v!=0:\n",
        "        target = target-1\n",
        "        res = res+1\n",
        "        d[k]=v-1\n",
        "    else:\n",
        "      return res\n",
        "  return res\n",
        "\n",
        "# Solution 2\n",
        "def max_candy_types(candies:list):\n",
        "  target = len(candies)/2\n",
        "  return min(len(set(candies)), len(candies)/2)\n",
        "\n",
        "\n",
        "print(max_candy_types([1,1,2,2,3,3]))"
      ],
      "metadata": {
        "id": "fWKrVqBojF0P",
        "colab": {
          "base_uri": "https://localhost:8080/"
        },
        "outputId": "93f494b0-1af6-4946-b726-a5b1aa1fac79"
      },
      "execution_count": 2,
      "outputs": [
        {
          "output_type": "stream",
          "name": "stdout",
          "text": [
            "3\n"
          ]
        }
      ]
    },
    {
      "cell_type": "code",
      "source": [
        "# Solution 3\n",
        "def max_candy_types(candies: list):\n",
        "    unique_candies = 0\n",
        "    for i in range(len(candies)):\n",
        "        for j in range(0, i):\n",
        "            if candies[i] == candies[j]:\n",
        "                break\n",
        "        else:\n",
        "            unique_candies += 1\n",
        "    return min(unique_candies, len(candies) // 2)\n",
        "print(max_candy_types([1,1,2,2,3,3]))"
      ],
      "metadata": {
        "colab": {
          "base_uri": "https://localhost:8080/"
        },
        "id": "FlEqnUnoYWfU",
        "outputId": "eb227bf3-74d7-445c-ed5d-584936468a07"
      },
      "execution_count": 3,
      "outputs": [
        {
          "output_type": "stream",
          "name": "stdout",
          "text": [
            "3\n"
          ]
        }
      ]
    },
    {
      "cell_type": "markdown",
      "source": [
        "**`Question 3`**:\n",
        "* We define a harmonious array as an array where \n",
        "      1. The difference between its maximum value and its minimum value is exactly 1.\n",
        "* Given an integer array nums, \n",
        "      * return the length of its longest harmonious subsequence among all its possible subsequences.\n",
        "* A <b>subsequence of an array </b> is a sequence that can be derived from the array by deleting some or no elements without changing the order of the remaining elements.\n",
        "\n",
        "**`Example 1`**:\n",
        "\n",
        "Input: nums = [1,3,2,2,5,2,3,7]\n",
        "\n",
        "Output: 5\n",
        "\n",
        "Explanation: The longest harmonious subsequence is [3,2,2,2,3]."
      ],
      "metadata": {
        "id": "WXiBiFEojGDx"
      }
    },
    {
      "cell_type": "code",
      "source": [
        "def get_long_harmonious(array:list)->int:\n",
        "  d={}\n",
        "  for i in set(array):\n",
        "    d[i]=array.count(i)\n",
        "\n",
        "  temp_max = 0\n",
        "\n",
        "  for k in d.keys():\n",
        "    if k+1 in d.keys():\n",
        "      temp_max = max(temp_max,d[k]+d[k+1])\n",
        "  return temp_max\n",
        "print(get_long_harmonious([1,3,2,2,5,2,3,7]))"
      ],
      "metadata": {
        "id": "aqdHjWcLjGUQ",
        "colab": {
          "base_uri": "https://localhost:8080/"
        },
        "outputId": "90f33cdc-cdee-4585-eaaa-058a11408fbd"
      },
      "execution_count": 4,
      "outputs": [
        {
          "output_type": "stream",
          "name": "stdout",
          "text": [
            "5\n"
          ]
        }
      ]
    },
    {
      "cell_type": "markdown",
      "source": [
        "**`Question 4`**:\n",
        "* You have a long flowerbed in which some of the plots are planted, and some are not.\n",
        "\n",
        "* However, flowers cannot be planted in adjacent plots.\n",
        "\n",
        "      * Given an integer array flowerbed containing 0's and 1's, where 0 means empty and 1 means not empty, and an integer n\n",
        "      * return true if n new flowers can be planted in the flowerbed\n",
        "      without violating the no-adjacent-flowers rule and false otherwise.\n",
        "\n",
        "**`Example 1`**:\n",
        "\n",
        "Input:\n",
        "\n",
        "flowerbed = [1,0,0,0,1],\n",
        "\n",
        "n = 1\n",
        "\n",
        "**`Output`**: \n",
        "\n",
        "true"
      ],
      "metadata": {
        "id": "1u5yV3u4jGlE"
      }
    },
    {
      "cell_type": "code",
      "source": [
        "def is_possible(flower_bed:list,n:int):\n",
        "  count=0\n",
        "  for i in range(len(flower_bed)):\n",
        "    if flower_bed[i]==0:\n",
        "      if flower_bed[i-1] == 0 or i==0:\n",
        "        if i==len(flower_bed)-1 or flower_bed[i+1]==0:\n",
        "          flower_bed[i]=1\n",
        "          count=count+1\n",
        "  if count>=n:\n",
        "    return True\n",
        "  else:\n",
        "    return False\n",
        "print(is_possible([1,0,0,0,1,0,0,0,0],4))"
      ],
      "metadata": {
        "id": "_sOGec_0jG2j",
        "colab": {
          "base_uri": "https://localhost:8080/"
        },
        "outputId": "477e3719-b579-4cce-cc43-c9cc5132a58b"
      },
      "execution_count": 5,
      "outputs": [
        {
          "output_type": "stream",
          "name": "stdout",
          "text": [
            "False\n"
          ]
        }
      ]
    },
    {
      "cell_type": "markdown",
      "source": [
        "**`Question 5`**:\n",
        "* Given an integer array nums, find three numbers whose product is maximum and return the maximum product.\n",
        "\n",
        "\n",
        "**`Example 1`**:\n",
        "\n",
        "**`Input`**: \n",
        "\n",
        "nums = [1,2,3]\n",
        "\n",
        "**`Output`**: 6"
      ],
      "metadata": {
        "id": "dxTBhhYsjHFy"
      }
    },
    {
      "cell_type": "code",
      "source": [
        "def max_prod(array):\n",
        "  array.sort()\n",
        "  return max(array[-1]*array[0]*array[1],array[-1]*array[-2]*array[-3])\n",
        "\n",
        "print(max_prod([1,2,3]))"
      ],
      "metadata": {
        "id": "_1MMQgWijHXu",
        "colab": {
          "base_uri": "https://localhost:8080/"
        },
        "outputId": "11c706d5-4c81-4b5f-b75f-5e32aa3b90bd"
      },
      "execution_count": 6,
      "outputs": [
        {
          "output_type": "stream",
          "name": "stdout",
          "text": [
            "6\n"
          ]
        }
      ]
    },
    {
      "cell_type": "markdown",
      "source": [
        "**`Question 6`**:\n",
        "* Given an array of integers nums which is sorted in ascending order, and an integer target,\n",
        "* write a function to search target in nums. \n",
        "\n",
        "      * If target exists, then return its index.\n",
        "      * Otherwise, return -1.\n",
        "You must write an algorithm with O(log n) runtime complexity.\n",
        "\n",
        "**`Input`**: \n",
        "\n",
        "nums = [-1,0,3,5,9,12], \n",
        "\n",
        "target = 9\n",
        "\n",
        "**`Output`**: 4\n",
        "\n",
        "**`Explanation`**:\n",
        "\n",
        " 9 exists in nums and its index is 4"
      ],
      "metadata": {
        "id": "XljSa7Z-jHms"
      }
    },
    {
      "cell_type": "code",
      "source": [
        "def get_index(array,target):\n",
        "  start=0\n",
        "  length = len(array)\n",
        "  end = length-1\n",
        "  while True:\n",
        "    if target == array[start+((end-start)//2)]:\n",
        "      return start+((end-start)//2)\n",
        "    elif target > array[start+((end-start)//2)]:\n",
        "      start = start+((end-start)//2)\n",
        "    else:\n",
        "      end=end-((end-start)//2)\n",
        "\n",
        "\n",
        "print(get_index([-1,0,3,5,9,12],9))\n"
      ],
      "metadata": {
        "id": "VOBSpQ7DjH3b",
        "colab": {
          "base_uri": "https://localhost:8080/"
        },
        "outputId": "1e15245a-a32b-4a1f-a8cc-2d336124b575"
      },
      "execution_count": 7,
      "outputs": [
        {
          "output_type": "stream",
          "name": "stdout",
          "text": [
            "4\n"
          ]
        }
      ]
    },
    {
      "cell_type": "markdown",
      "source": [
        "**`Question 7`**:\n",
        "* An array is monotonic if it is either monotone increasing or monotone decreasing.\n",
        "      * An array nums is monotone increasing if for all i <= j, nums[i] <= nums[j].\n",
        "      * An array nums is monotone decreasing if for all i <= j, nums[i] >= nums[j].\n",
        "\n",
        "Given an integer array nums, return true if the given array is monotonic, or false otherwise.\n",
        "\n",
        "**`Example 1`**:\n",
        "\n",
        "Input:\n",
        "\n",
        "nums = [1,2,2,3]\n",
        "\n",
        "**`Output`**: true"
      ],
      "metadata": {
        "id": "qEjnsh-4jIHG"
      }
    },
    {
      "cell_type": "code",
      "source": [
        "def is_increasing(array):\n",
        "  for i in range(len(array)):\n",
        "    if i==len(array)-1:\n",
        "      return True\n",
        "    if array[i] <= array[i+1]:\n",
        "      continue\n",
        "    else:\n",
        "      return False\n",
        "      break\n",
        "def is_decreasing(array):\n",
        "  for i in range(len(array)):\n",
        "    if i==len(array)-1:\n",
        "      return True\n",
        "    if array[i] >= array[i+1]:\n",
        "      continue\n",
        "    else:\n",
        "      return False\n",
        "      break\n",
        "def is_monotonic(array):\n",
        "  return is_increasing(array) | is_decreasing(array)\n",
        "  \n",
        "      \n",
        "is_monotonic([1,2,2,3])"
      ],
      "metadata": {
        "id": "sD2DnRnMjIX_",
        "colab": {
          "base_uri": "https://localhost:8080/"
        },
        "outputId": "a150f358-338c-42c4-f44d-77a71c7b471f"
      },
      "execution_count": 8,
      "outputs": [
        {
          "output_type": "execute_result",
          "data": {
            "text/plain": [
              "True"
            ]
          },
          "metadata": {},
          "execution_count": 8
        }
      ]
    },
    {
      "cell_type": "code",
      "source": [
        "def is_monotonic(array):\n",
        "  return (all(array[i] <= array[i+1] for i in range(len(array) - 1)) or\n",
        "                all(array[i] >= array[i+1] for i in range(len(array) - 1)))\n",
        "is_monotonic([1,2,2,3]) "
      ],
      "metadata": {
        "colab": {
          "base_uri": "https://localhost:8080/"
        },
        "id": "pZQ7F3eHyvAp",
        "outputId": "9ba834e8-0612-421f-b22d-47fe6248059f"
      },
      "execution_count": 9,
      "outputs": [
        {
          "output_type": "execute_result",
          "data": {
            "text/plain": [
              "True"
            ]
          },
          "metadata": {},
          "execution_count": 9
        }
      ]
    },
    {
      "cell_type": "markdown",
      "source": [
        "**`Question 8`**\n",
        "* You are given an integer array nums and an integer k.\n",
        "* In one operation, you can choose any index i where 0 <= i < nums.length\n",
        "  and change nums[i] to nums[i] + x where x is an integer from the range [-k, k]. You can apply this operation atmost once for each index i.\n",
        "* The score of nums is the difference between the maximum and minimum elements in nums.\n",
        "\n",
        "Return the minimum score of nums after applying the mentioned operation at most once for\n",
        "each index in it.\n",
        "\n",
        "Example 1:\n",
        "\n",
        "Input: nums = [1], k = 0\n",
        "\n",
        "Output: 0\n",
        "\n",
        "Explanation: The score is max(nums) - min(nums) = 1 - 1 = 0."
      ],
      "metadata": {
        "id": "eKTWqZsXma-F"
      }
    },
    {
      "cell_type": "code",
      "source": [
        "import numpy as np\n",
        "def fun(array,k):\n",
        "  for i in range(len(array)):\n",
        "    x = np.random.randint(-k,k+1)\n",
        "    # i = np.random.randint(0,len(array))\n",
        "    array[i]=array[i]+x\n",
        "  return max(array)-min(array)\n",
        "  \n",
        "\n",
        "fun([1],0)"
      ],
      "metadata": {
        "id": "fXZPFvYzmdYs",
        "colab": {
          "base_uri": "https://localhost:8080/"
        },
        "outputId": "0c26b795-d423-4398-d82f-7f8ec28da012"
      },
      "execution_count": 10,
      "outputs": [
        {
          "output_type": "execute_result",
          "data": {
            "text/plain": [
              "0"
            ]
          },
          "metadata": {},
          "execution_count": 10
        }
      ]
    },
    {
      "cell_type": "code",
      "source": [],
      "metadata": {
        "id": "osQ-6RG6CxTR"
      },
      "execution_count": null,
      "outputs": []
    }
  ]
}
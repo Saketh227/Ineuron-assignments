{
  "nbformat": 4,
  "nbformat_minor": 0,
  "metadata": {
    "colab": {
      "provenance": []
    },
    "kernelspec": {
      "name": "python3",
      "display_name": "Python 3"
    },
    "language_info": {
      "name": "python"
    }
  },
  "cells": [
    {
      "cell_type": "code",
      "execution_count": 9,
      "metadata": {
        "colab": {
          "base_uri": "https://localhost:8080/"
        },
        "id": "fWwB2H4jgouZ",
        "outputId": "75f14333-95a2-4050-c941-72acb4d74ff3"
      },
      "outputs": [
        {
          "output_type": "stream",
          "name": "stdout",
          "text": [
            "the stack is\n",
            "| 3 |\n",
            "| 2 |\n",
            "| 1 |\n",
            " ---\n",
            "False\n",
            "the order of popped elements\n",
            "3  2  1  -1\n",
            "True\n"
          ]
        }
      ],
      "source": [
        "# stack using a list\n",
        "class stack:\n",
        "  def __init__(self):\n",
        "    self.st = []\n",
        "\n",
        "  def isEmpty(self):\n",
        "    return len(self.st) == 0\n",
        "\n",
        "  def push(self,val):\n",
        "    self.st.append(val)\n",
        "\n",
        "  def pop(self):\n",
        "    if not self.isEmpty():\n",
        "      return self.st.pop()\n",
        "    else:\n",
        "      return -1\n",
        "\n",
        "\n",
        "obj =stack()\n",
        "obj.push(1)\n",
        "obj.push(2)\n",
        "obj.push(3)\n",
        "\n",
        "print('the stack is')\n",
        "for i in obj.st[::-1]:\n",
        "  print(f\"| {i} |\")\n",
        "print(' ---')\n",
        "print(obj.isEmpty())\n",
        "\n",
        "print(\"the order of popped elements\")\n",
        "print(obj.pop(),obj.pop(),obj.pop(),obj.pop(), sep=\"  \")\n",
        "print(obj.isEmpty())"
      ]
    },
    {
      "cell_type": "code",
      "source": [
        "class queue:\n",
        "  def __init__(self):\n",
        "    self.q = []\n",
        "\n",
        "  def isEmpty(self):\n",
        "    return len(self.q) == 0\n",
        "\n",
        "  def enqueue(self,val):\n",
        "    self.q.append(val)\n",
        "  def dequeue(self):\n",
        "    if not self.isEmpty():\n",
        "      return self.q.pop(0)\n",
        "    else:\n",
        "      return -1\n",
        "\n",
        "obj =queue()\n",
        "obj.enqueue(1)\n",
        "obj.enqueue(2)\n",
        "obj.enqueue(3)\n",
        "\n",
        "print('the queue is')\n",
        "for i in obj.q:\n",
        "  print(f\"| {i} |\")\n",
        "\n",
        "print(obj.isEmpty())\n",
        "\n",
        "print(\"the order of dequeueped elements\")\n",
        "print(obj.dequeue(),obj.dequeue(),obj.dequeue(),obj.dequeue(), sep=\"  \")\n",
        "print(obj.isEmpty())"
      ],
      "metadata": {
        "colab": {
          "base_uri": "https://localhost:8080/"
        },
        "id": "WTEmDhG4h8n_",
        "outputId": "709dd1a3-83e8-4fac-d76b-ebef625081d1"
      },
      "execution_count": 14,
      "outputs": [
        {
          "output_type": "stream",
          "name": "stdout",
          "text": [
            "the queue is\n",
            "| 1 |\n",
            "| 2 |\n",
            "| 3 |\n",
            "False\n",
            "the order of dequeueped elements\n",
            "1  2  3  -1\n",
            "True\n"
          ]
        }
      ]
    },
    {
      "cell_type": "code",
      "source": [],
      "metadata": {
        "id": "rcXYFut4j_Z1"
      },
      "execution_count": null,
      "outputs": []
    }
  ]
}
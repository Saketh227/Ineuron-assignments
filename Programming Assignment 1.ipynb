{
 "cells": [
  {
   "cell_type": "raw",
   "id": "e7f0d1c1",
   "metadata": {},
   "source": [
    "1.\tWrite a Python program to print \"Hello Python\"?\n",
    "2.\tWrite a Python program to do arithmetical operations addition and division.?\n",
    "3.\tWrite a Python program to find the area of a triangle?\n",
    "4.\tWrite a Python program to swap two variables?\n",
    "5.\tWrite a Python program to generate a random number?"
   ]
  },
  {
   "cell_type": "code",
   "execution_count": 1,
   "id": "3af666d4",
   "metadata": {},
   "outputs": [
    {
     "name": "stdout",
     "output_type": "stream",
     "text": [
      "Hello Pyhton\n"
     ]
    }
   ],
   "source": [
    "print(\"Hello Pyhton\")"
   ]
  },
  {
   "cell_type": "code",
   "execution_count": 2,
   "id": "4d1ed61b",
   "metadata": {},
   "outputs": [
    {
     "name": "stdout",
     "output_type": "stream",
     "text": [
      "the addition of the numbers (0, 10) is 10\n",
      "the addition of the numbers (1, 2, 3, 4, 5) is 15\n",
      "The Exception 'division by zero' is raised \n",
      "the division of two numbers 24,12 is 2.0\n"
     ]
    }
   ],
   "source": [
    "class Arithmetic_op:\n",
    "#     def add(self,x,y):\n",
    "#         return \"the addition of the numbers {},{} is {}\".format(x,y,x+y)\n",
    "    def add(self,*x):\n",
    "        sum=0\n",
    "        for i in x:\n",
    "            sum=sum+i\n",
    "        return \"the addition of the numbers {} is {}\".format(x,sum)\n",
    "    \n",
    "    \n",
    "    def div(self,x,y):\n",
    "        try:\n",
    "            x/y\n",
    "            return \"the division of two numbers {},{} is {}\".format(x,y,x/y)\n",
    "        except Exception as e:\n",
    "            return \"The Exception '{}' is raised \".format(e)\n",
    "\n",
    "\n",
    "a=Arithmetic_op()\n",
    "\n",
    "print( a.add(0,10) )\n",
    "print(a.add(1,2,3,4,5))\n",
    "\n",
    "print( a.div(12,0) )\n",
    "print( a.div(24,12) )\n"
   ]
  },
  {
   "cell_type": "code",
   "execution_count": 3,
   "id": "5c7739af",
   "metadata": {},
   "outputs": [
    {
     "name": "stdout",
     "output_type": "stream",
     "text": [
      "the area of triangle having 8,8,8 as it's sides is 27.712812921102035\n",
      "The sides of triangle are invalid\n",
      "the area of triangle with base:4 , and height:5 is 10.0\n"
     ]
    }
   ],
   "source": [
    "class AOT:\n",
    "    \n",
    "    # when base and height are given\n",
    "    def area_b_h(self,base,height):\n",
    "        return \"the area of triangle with base:{} , and height:{} is {}\".format(base,height,(1/2)*base*height)\n",
    "    \n",
    "    # When all the three sides are given\n",
    "    def area_sides(self,a,b,c):\n",
    "        s=(a+b+c)/2\n",
    "        area=(s*(s-a)*(s-b)*(s-c))**(1/2)\n",
    "        if area==0:\n",
    "            return \"The sides of triangle are invalid\"\n",
    "        return \"the area of triangle having {},{},{} as it's sides is {}\".format(a,b,c,area)\n",
    "    \n",
    "a=AOT()\n",
    "print(a.area_sides(8,8,8))\n",
    "print(a.area_sides(1,2,3))\n",
    "print(a.area_b_h(4,5))"
   ]
  },
  {
   "cell_type": "code",
   "execution_count": 4,
   "id": "0d20ab66",
   "metadata": {},
   "outputs": [
    {
     "name": "stdout",
     "output_type": "stream",
     "text": [
      "20 10\n"
     ]
    }
   ],
   "source": [
    "def swap(a,b):\n",
    "    # print(\"the values of a , b before swapping are {},{} respectively\".format(a,b))\n",
    "    a,b=b,a\n",
    "    # print(\"the values of a , b after swapping are {},{} respectively\".format(a,b))\n",
    "    return a,b\n",
    "\n",
    "a,b=10,20\n",
    "a,b=swap(a,b)\n",
    "print(a,b)"
   ]
  },
  {
   "cell_type": "code",
   "execution_count": 5,
   "id": "25ec5c02",
   "metadata": {},
   "outputs": [
    {
     "name": "stdout",
     "output_type": "stream",
     "text": [
      "11\n"
     ]
    }
   ],
   "source": [
    "# Program to generate a random number between 0 and 20\n",
    "import random\n",
    "print(random.randint(0,20))"
   ]
  },
  {
   "cell_type": "code",
   "execution_count": null,
   "id": "fa2e6ef0",
   "metadata": {},
   "outputs": [],
   "source": []
  }
 ],
 "metadata": {
  "kernelspec": {
   "display_name": "Python 3 (ipykernel)",
   "language": "python",
   "name": "python3"
  },
  "language_info": {
   "codemirror_mode": {
    "name": "ipython",
    "version": 3
   },
   "file_extension": ".py",
   "mimetype": "text/x-python",
   "name": "python",
   "nbconvert_exporter": "python",
   "pygments_lexer": "ipython3",
   "version": "3.9.12"
  }
 },
 "nbformat": 4,
 "nbformat_minor": 5
}
